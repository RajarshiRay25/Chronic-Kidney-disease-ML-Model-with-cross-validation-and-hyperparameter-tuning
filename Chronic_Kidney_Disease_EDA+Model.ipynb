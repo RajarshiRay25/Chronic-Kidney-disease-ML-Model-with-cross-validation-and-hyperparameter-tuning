{
  "nbformat": 4,
  "nbformat_minor": 0,
  "metadata": {
    "colab": {
      "provenance": [],
      "authorship_tag": "ABX9TyPSg2yjClZrAiSQE43lC8Kv",
      "include_colab_link": true
    },
    "kernelspec": {
      "name": "python3",
      "display_name": "Python 3"
    },
    "language_info": {
      "name": "python"
    }
  },
  "cells": [
    {
      "cell_type": "markdown",
      "metadata": {
        "id": "view-in-github",
        "colab_type": "text"
      },
      "source": [
        "<a href=\"https://colab.research.google.com/github/RajarshiRay25/Chronic-Kidney-disease-ML-Model-with-cross-validation-and-hyperparameter-tuning/blob/main/Chronic_Kidney_Disease_EDA%2BModel.ipynb\" target=\"_parent\"><img src=\"https://colab.research.google.com/assets/colab-badge.svg\" alt=\"Open In Colab\"/></a>"
      ]
    },
    {
      "cell_type": "markdown",
      "source": [
        "#Analysis of Chronic Kidney disease dataset based on certain medical factors\n",
        "\n",
        "| Column | Label        | Description                                                     |\n",
        "|--------|--------------|-----------------------------------------------------------------|\n",
        "| Bp     | Blood pressure     | Blood pressure measurement (mmHg)                              |\n",
        "| Sg     | Specific gravity       | Specific gravity of urine                                      |\n",
        "| Al     | Albumin       | Presence of albumin in urine (values from 0 to 5)               |\n",
        "| Su     | Sugar        | Presence of sugar in urine (values from 0 to 5)                 |\n",
        "| Rbc    | Red blood cells        | Presence of red blood cells in urine (1 indicates presence, 0 indicates absence) |\n",
        "| Bu     | Blood urea        | Blood urea measurement (mg/dL)                               |\n",
        "| Sc     | Serum creatinine        | Serum creatinine measurement (mg/dL)                         |\n",
        "| Sod    | Sodium        | Sodium measurement (mEq/L)                                   |\n",
        "| Pot    | Potassium     | Potassium measurement (mEq/L)                                |\n",
        "| Hemo   | Hemoglobin     | Hemoglobin measurement (g/dL)                                |\n",
        "| Wbcc   | White blood cell count    | White blood cell count measurement (cells/cubic mm)           |\n",
        "| Rbcc   | Red blood cell count     | Red blood cell count measurement (millions/cubic mm)          |\n",
        "| Htn    | Hypertension      | Presence of hypertension (0 indicates no hypertension, 1 indicates hypertension) |\n",
        "| Class  | Class label       | Class label or outcome (1 indicates a positive result, 0 indicates a negative result) |\n",
        "\n",
        "\n",
        "##Source of dataset : https://www.kaggle.com/datasets/abhia1999/chronic-kidney-disease?q=medical+datasets+in%3Adatasets"
      ],
      "metadata": {
        "id": "DNp8Tv7-_b9e"
      }
    },
    {
      "cell_type": "markdown",
      "source": [
        "## Importing libraries"
      ],
      "metadata": {
        "id": "92wmO2cjAUp9"
      }
    },
    {
      "cell_type": "code",
      "execution_count": 1,
      "metadata": {
        "id": "kr3tQrf7_XDr"
      },
      "outputs": [],
      "source": [
        "import numpy as np\n",
        "import pandas as pd\n",
        "import matplotlib.pyplot as plt\n",
        "import seaborn as sns"
      ]
    },
    {
      "cell_type": "code",
      "source": [
        "df = pd.read_csv('./kidney_disease.csv')\n",
        "df.head()"
      ],
      "metadata": {
        "colab": {
          "base_uri": "https://localhost:8080/",
          "height": 206
        },
        "id": "GZT9v-ryAhFu",
        "outputId": "0f853495-9022-4c09-d452-e73d4283c0b3"
      },
      "execution_count": 2,
      "outputs": [
        {
          "output_type": "execute_result",
          "data": {
            "text/plain": [
              "     Bp     Sg   Al   Su  Rbc    Bu   Sc     Sod   Pot  Hemo    Wbcc  Rbcc  \\\n",
              "0  80.0  1.020  1.0  0.0  1.0  36.0  1.2  137.53  4.63  15.4  7800.0  5.20   \n",
              "1  50.0  1.020  4.0  0.0  1.0  18.0  0.8  137.53  4.63  11.3  6000.0  4.71   \n",
              "2  80.0  1.010  2.0  3.0  1.0  53.0  1.8  137.53  4.63   9.6  7500.0  4.71   \n",
              "3  70.0  1.005  4.0  0.0  1.0  56.0  3.8  111.00  2.50  11.2  6700.0  3.90   \n",
              "4  80.0  1.010  2.0  0.0  1.0  26.0  1.4  137.53  4.63  11.6  7300.0  4.60   \n",
              "\n",
              "   Htn  Class  \n",
              "0  1.0      1  \n",
              "1  0.0      1  \n",
              "2  0.0      1  \n",
              "3  1.0      1  \n",
              "4  0.0      1  "
            ],
            "text/html": [
              "\n",
              "\n",
              "  <div id=\"df-874e4087-259b-4763-ba1d-2949e4394c08\">\n",
              "    <div class=\"colab-df-container\">\n",
              "      <div>\n",
              "<style scoped>\n",
              "    .dataframe tbody tr th:only-of-type {\n",
              "        vertical-align: middle;\n",
              "    }\n",
              "\n",
              "    .dataframe tbody tr th {\n",
              "        vertical-align: top;\n",
              "    }\n",
              "\n",
              "    .dataframe thead th {\n",
              "        text-align: right;\n",
              "    }\n",
              "</style>\n",
              "<table border=\"1\" class=\"dataframe\">\n",
              "  <thead>\n",
              "    <tr style=\"text-align: right;\">\n",
              "      <th></th>\n",
              "      <th>Bp</th>\n",
              "      <th>Sg</th>\n",
              "      <th>Al</th>\n",
              "      <th>Su</th>\n",
              "      <th>Rbc</th>\n",
              "      <th>Bu</th>\n",
              "      <th>Sc</th>\n",
              "      <th>Sod</th>\n",
              "      <th>Pot</th>\n",
              "      <th>Hemo</th>\n",
              "      <th>Wbcc</th>\n",
              "      <th>Rbcc</th>\n",
              "      <th>Htn</th>\n",
              "      <th>Class</th>\n",
              "    </tr>\n",
              "  </thead>\n",
              "  <tbody>\n",
              "    <tr>\n",
              "      <th>0</th>\n",
              "      <td>80.0</td>\n",
              "      <td>1.020</td>\n",
              "      <td>1.0</td>\n",
              "      <td>0.0</td>\n",
              "      <td>1.0</td>\n",
              "      <td>36.0</td>\n",
              "      <td>1.2</td>\n",
              "      <td>137.53</td>\n",
              "      <td>4.63</td>\n",
              "      <td>15.4</td>\n",
              "      <td>7800.0</td>\n",
              "      <td>5.20</td>\n",
              "      <td>1.0</td>\n",
              "      <td>1</td>\n",
              "    </tr>\n",
              "    <tr>\n",
              "      <th>1</th>\n",
              "      <td>50.0</td>\n",
              "      <td>1.020</td>\n",
              "      <td>4.0</td>\n",
              "      <td>0.0</td>\n",
              "      <td>1.0</td>\n",
              "      <td>18.0</td>\n",
              "      <td>0.8</td>\n",
              "      <td>137.53</td>\n",
              "      <td>4.63</td>\n",
              "      <td>11.3</td>\n",
              "      <td>6000.0</td>\n",
              "      <td>4.71</td>\n",
              "      <td>0.0</td>\n",
              "      <td>1</td>\n",
              "    </tr>\n",
              "    <tr>\n",
              "      <th>2</th>\n",
              "      <td>80.0</td>\n",
              "      <td>1.010</td>\n",
              "      <td>2.0</td>\n",
              "      <td>3.0</td>\n",
              "      <td>1.0</td>\n",
              "      <td>53.0</td>\n",
              "      <td>1.8</td>\n",
              "      <td>137.53</td>\n",
              "      <td>4.63</td>\n",
              "      <td>9.6</td>\n",
              "      <td>7500.0</td>\n",
              "      <td>4.71</td>\n",
              "      <td>0.0</td>\n",
              "      <td>1</td>\n",
              "    </tr>\n",
              "    <tr>\n",
              "      <th>3</th>\n",
              "      <td>70.0</td>\n",
              "      <td>1.005</td>\n",
              "      <td>4.0</td>\n",
              "      <td>0.0</td>\n",
              "      <td>1.0</td>\n",
              "      <td>56.0</td>\n",
              "      <td>3.8</td>\n",
              "      <td>111.00</td>\n",
              "      <td>2.50</td>\n",
              "      <td>11.2</td>\n",
              "      <td>6700.0</td>\n",
              "      <td>3.90</td>\n",
              "      <td>1.0</td>\n",
              "      <td>1</td>\n",
              "    </tr>\n",
              "    <tr>\n",
              "      <th>4</th>\n",
              "      <td>80.0</td>\n",
              "      <td>1.010</td>\n",
              "      <td>2.0</td>\n",
              "      <td>0.0</td>\n",
              "      <td>1.0</td>\n",
              "      <td>26.0</td>\n",
              "      <td>1.4</td>\n",
              "      <td>137.53</td>\n",
              "      <td>4.63</td>\n",
              "      <td>11.6</td>\n",
              "      <td>7300.0</td>\n",
              "      <td>4.60</td>\n",
              "      <td>0.0</td>\n",
              "      <td>1</td>\n",
              "    </tr>\n",
              "  </tbody>\n",
              "</table>\n",
              "</div>\n",
              "      <button class=\"colab-df-convert\" onclick=\"convertToInteractive('df-874e4087-259b-4763-ba1d-2949e4394c08')\"\n",
              "              title=\"Convert this dataframe to an interactive table.\"\n",
              "              style=\"display:none;\">\n",
              "\n",
              "  <svg xmlns=\"http://www.w3.org/2000/svg\" height=\"24px\"viewBox=\"0 0 24 24\"\n",
              "       width=\"24px\">\n",
              "    <path d=\"M0 0h24v24H0V0z\" fill=\"none\"/>\n",
              "    <path d=\"M18.56 5.44l.94 2.06.94-2.06 2.06-.94-2.06-.94-.94-2.06-.94 2.06-2.06.94zm-11 1L8.5 8.5l.94-2.06 2.06-.94-2.06-.94L8.5 2.5l-.94 2.06-2.06.94zm10 10l.94 2.06.94-2.06 2.06-.94-2.06-.94-.94-2.06-.94 2.06-2.06.94z\"/><path d=\"M17.41 7.96l-1.37-1.37c-.4-.4-.92-.59-1.43-.59-.52 0-1.04.2-1.43.59L10.3 9.45l-7.72 7.72c-.78.78-.78 2.05 0 2.83L4 21.41c.39.39.9.59 1.41.59.51 0 1.02-.2 1.41-.59l7.78-7.78 2.81-2.81c.8-.78.8-2.07 0-2.86zM5.41 20L4 18.59l7.72-7.72 1.47 1.35L5.41 20z\"/>\n",
              "  </svg>\n",
              "      </button>\n",
              "\n",
              "\n",
              "\n",
              "    <div id=\"df-51b42720-561e-48db-a3f9-6f443bcfaeb3\">\n",
              "      <button class=\"colab-df-quickchart\" onclick=\"quickchart('df-51b42720-561e-48db-a3f9-6f443bcfaeb3')\"\n",
              "              title=\"Suggest charts.\"\n",
              "              style=\"display:none;\">\n",
              "\n",
              "<svg xmlns=\"http://www.w3.org/2000/svg\" height=\"24px\"viewBox=\"0 0 24 24\"\n",
              "     width=\"24px\">\n",
              "    <g>\n",
              "        <path d=\"M19 3H5c-1.1 0-2 .9-2 2v14c0 1.1.9 2 2 2h14c1.1 0 2-.9 2-2V5c0-1.1-.9-2-2-2zM9 17H7v-7h2v7zm4 0h-2V7h2v10zm4 0h-2v-4h2v4z\"/>\n",
              "    </g>\n",
              "</svg>\n",
              "      </button>\n",
              "    </div>\n",
              "\n",
              "<style>\n",
              "  .colab-df-quickchart {\n",
              "    background-color: #E8F0FE;\n",
              "    border: none;\n",
              "    border-radius: 50%;\n",
              "    cursor: pointer;\n",
              "    display: none;\n",
              "    fill: #1967D2;\n",
              "    height: 32px;\n",
              "    padding: 0 0 0 0;\n",
              "    width: 32px;\n",
              "  }\n",
              "\n",
              "  .colab-df-quickchart:hover {\n",
              "    background-color: #E2EBFA;\n",
              "    box-shadow: 0px 1px 2px rgba(60, 64, 67, 0.3), 0px 1px 3px 1px rgba(60, 64, 67, 0.15);\n",
              "    fill: #174EA6;\n",
              "  }\n",
              "\n",
              "  [theme=dark] .colab-df-quickchart {\n",
              "    background-color: #3B4455;\n",
              "    fill: #D2E3FC;\n",
              "  }\n",
              "\n",
              "  [theme=dark] .colab-df-quickchart:hover {\n",
              "    background-color: #434B5C;\n",
              "    box-shadow: 0px 1px 3px 1px rgba(0, 0, 0, 0.15);\n",
              "    filter: drop-shadow(0px 1px 2px rgba(0, 0, 0, 0.3));\n",
              "    fill: #FFFFFF;\n",
              "  }\n",
              "</style>\n",
              "\n",
              "    <script>\n",
              "      async function quickchart(key) {\n",
              "        const containerElement = document.querySelector('#' + key);\n",
              "        const charts = await google.colab.kernel.invokeFunction(\n",
              "            'suggestCharts', [key], {});\n",
              "      }\n",
              "    </script>\n",
              "\n",
              "      <script>\n",
              "\n",
              "function displayQuickchartButton(domScope) {\n",
              "  let quickchartButtonEl =\n",
              "    domScope.querySelector('#df-51b42720-561e-48db-a3f9-6f443bcfaeb3 button.colab-df-quickchart');\n",
              "  quickchartButtonEl.style.display =\n",
              "    google.colab.kernel.accessAllowed ? 'block' : 'none';\n",
              "}\n",
              "\n",
              "        displayQuickchartButton(document);\n",
              "      </script>\n",
              "      <style>\n",
              "    .colab-df-container {\n",
              "      display:flex;\n",
              "      flex-wrap:wrap;\n",
              "      gap: 12px;\n",
              "    }\n",
              "\n",
              "    .colab-df-convert {\n",
              "      background-color: #E8F0FE;\n",
              "      border: none;\n",
              "      border-radius: 50%;\n",
              "      cursor: pointer;\n",
              "      display: none;\n",
              "      fill: #1967D2;\n",
              "      height: 32px;\n",
              "      padding: 0 0 0 0;\n",
              "      width: 32px;\n",
              "    }\n",
              "\n",
              "    .colab-df-convert:hover {\n",
              "      background-color: #E2EBFA;\n",
              "      box-shadow: 0px 1px 2px rgba(60, 64, 67, 0.3), 0px 1px 3px 1px rgba(60, 64, 67, 0.15);\n",
              "      fill: #174EA6;\n",
              "    }\n",
              "\n",
              "    [theme=dark] .colab-df-convert {\n",
              "      background-color: #3B4455;\n",
              "      fill: #D2E3FC;\n",
              "    }\n",
              "\n",
              "    [theme=dark] .colab-df-convert:hover {\n",
              "      background-color: #434B5C;\n",
              "      box-shadow: 0px 1px 3px 1px rgba(0, 0, 0, 0.15);\n",
              "      filter: drop-shadow(0px 1px 2px rgba(0, 0, 0, 0.3));\n",
              "      fill: #FFFFFF;\n",
              "    }\n",
              "  </style>\n",
              "\n",
              "      <script>\n",
              "        const buttonEl =\n",
              "          document.querySelector('#df-874e4087-259b-4763-ba1d-2949e4394c08 button.colab-df-convert');\n",
              "        buttonEl.style.display =\n",
              "          google.colab.kernel.accessAllowed ? 'block' : 'none';\n",
              "\n",
              "        async function convertToInteractive(key) {\n",
              "          const element = document.querySelector('#df-874e4087-259b-4763-ba1d-2949e4394c08');\n",
              "          const dataTable =\n",
              "            await google.colab.kernel.invokeFunction('convertToInteractive',\n",
              "                                                     [key], {});\n",
              "          if (!dataTable) return;\n",
              "\n",
              "          const docLinkHtml = 'Like what you see? Visit the ' +\n",
              "            '<a target=\"_blank\" href=https://colab.research.google.com/notebooks/data_table.ipynb>data table notebook</a>'\n",
              "            + ' to learn more about interactive tables.';\n",
              "          element.innerHTML = '';\n",
              "          dataTable['output_type'] = 'display_data';\n",
              "          await google.colab.output.renderOutput(dataTable, element);\n",
              "          const docLink = document.createElement('div');\n",
              "          docLink.innerHTML = docLinkHtml;\n",
              "          element.appendChild(docLink);\n",
              "        }\n",
              "      </script>\n",
              "    </div>\n",
              "  </div>\n"
            ]
          },
          "metadata": {},
          "execution_count": 2
        }
      ]
    },
    {
      "cell_type": "code",
      "source": [
        "# See all columns\n",
        "\n",
        "df.columns"
      ],
      "metadata": {
        "colab": {
          "base_uri": "https://localhost:8080/",
          "height": 0
        },
        "id": "5bnvPtbAA0__",
        "outputId": "830bc98d-9b99-460c-d1b7-7eb5e300aba4"
      },
      "execution_count": 3,
      "outputs": [
        {
          "output_type": "execute_result",
          "data": {
            "text/plain": [
              "Index(['Bp', 'Sg', 'Al', 'Su', 'Rbc', 'Bu', 'Sc', 'Sod', 'Pot', 'Hemo', 'Wbcc',\n",
              "       'Rbcc', 'Htn', 'Class'],\n",
              "      dtype='object')"
            ]
          },
          "metadata": {},
          "execution_count": 3
        }
      ]
    },
    {
      "cell_type": "code",
      "source": [
        "# See information of dataset\n",
        "\n",
        "df.info()"
      ],
      "metadata": {
        "colab": {
          "base_uri": "https://localhost:8080/",
          "height": 0
        },
        "id": "aHjj2oOYA6HI",
        "outputId": "aade9f5c-abdc-4771-d24b-28bbd91ed919"
      },
      "execution_count": 4,
      "outputs": [
        {
          "output_type": "stream",
          "name": "stdout",
          "text": [
            "<class 'pandas.core.frame.DataFrame'>\n",
            "RangeIndex: 400 entries, 0 to 399\n",
            "Data columns (total 14 columns):\n",
            " #   Column  Non-Null Count  Dtype  \n",
            "---  ------  --------------  -----  \n",
            " 0   Bp      400 non-null    float64\n",
            " 1   Sg      400 non-null    float64\n",
            " 2   Al      400 non-null    float64\n",
            " 3   Su      400 non-null    float64\n",
            " 4   Rbc     400 non-null    float64\n",
            " 5   Bu      400 non-null    float64\n",
            " 6   Sc      400 non-null    float64\n",
            " 7   Sod     400 non-null    float64\n",
            " 8   Pot     400 non-null    float64\n",
            " 9   Hemo    400 non-null    float64\n",
            " 10  Wbcc    400 non-null    float64\n",
            " 11  Rbcc    400 non-null    float64\n",
            " 12  Htn     400 non-null    float64\n",
            " 13  Class   400 non-null    int64  \n",
            "dtypes: float64(13), int64(1)\n",
            "memory usage: 43.9 KB\n"
          ]
        }
      ]
    },
    {
      "cell_type": "code",
      "source": [
        "# Statistical description of dataset\n",
        "\n",
        "df.describe()"
      ],
      "metadata": {
        "colab": {
          "base_uri": "https://localhost:8080/",
          "height": 364
        },
        "id": "IXCHW2P8BAl4",
        "outputId": "bc793d44-4bfa-4829-b541-5f3f11729d07"
      },
      "execution_count": 5,
      "outputs": [
        {
          "output_type": "execute_result",
          "data": {
            "text/plain": [
              "               Bp          Sg          Al          Su         Rbc         Bu  \\\n",
              "count  400.000000  400.000000  400.000000  400.000000  400.000000  400.00000   \n",
              "mean    76.455000    1.017712    1.015000    0.395000    0.882500   57.40550   \n",
              "std     13.476536    0.005434    1.272329    1.040038    0.322418   49.28597   \n",
              "min     50.000000    1.005000    0.000000    0.000000    0.000000    1.50000   \n",
              "25%     70.000000    1.015000    0.000000    0.000000    1.000000   27.00000   \n",
              "50%     78.000000    1.020000    1.000000    0.000000    1.000000   44.00000   \n",
              "75%     80.000000    1.020000    2.000000    0.000000    1.000000   61.75000   \n",
              "max    180.000000    1.025000    5.000000    5.000000    1.000000  391.00000   \n",
              "\n",
              "              Sc         Sod         Pot        Hemo          Wbcc  \\\n",
              "count  400.00000  400.000000  400.000000  400.000000    400.000000   \n",
              "mean     3.07235  137.529025    4.627850   12.526900   8406.090000   \n",
              "std      5.61749    9.204273    2.819783    2.716171   2523.219976   \n",
              "min      0.40000    4.500000    2.500000    3.100000   2200.000000   \n",
              "25%      0.90000  135.000000    4.000000   10.875000   6975.000000   \n",
              "50%      1.40000  137.530000    4.630000   12.530000   8406.000000   \n",
              "75%      3.07000  141.000000    4.800000   14.625000   9400.000000   \n",
              "max     76.00000  163.000000   47.000000   17.800000  26400.000000   \n",
              "\n",
              "             Rbcc         Htn       Class  \n",
              "count  400.000000  400.000000  400.000000  \n",
              "mean     4.708275    0.369350    0.625000  \n",
              "std      0.840315    0.482023    0.484729  \n",
              "min      2.100000    0.000000    0.000000  \n",
              "25%      4.500000    0.000000    0.000000  \n",
              "50%      4.710000    0.000000    1.000000  \n",
              "75%      5.100000    1.000000    1.000000  \n",
              "max      8.000000    1.000000    1.000000  "
            ],
            "text/html": [
              "\n",
              "\n",
              "  <div id=\"df-760b307b-aef1-4f7e-abe8-87c7e14e31ac\">\n",
              "    <div class=\"colab-df-container\">\n",
              "      <div>\n",
              "<style scoped>\n",
              "    .dataframe tbody tr th:only-of-type {\n",
              "        vertical-align: middle;\n",
              "    }\n",
              "\n",
              "    .dataframe tbody tr th {\n",
              "        vertical-align: top;\n",
              "    }\n",
              "\n",
              "    .dataframe thead th {\n",
              "        text-align: right;\n",
              "    }\n",
              "</style>\n",
              "<table border=\"1\" class=\"dataframe\">\n",
              "  <thead>\n",
              "    <tr style=\"text-align: right;\">\n",
              "      <th></th>\n",
              "      <th>Bp</th>\n",
              "      <th>Sg</th>\n",
              "      <th>Al</th>\n",
              "      <th>Su</th>\n",
              "      <th>Rbc</th>\n",
              "      <th>Bu</th>\n",
              "      <th>Sc</th>\n",
              "      <th>Sod</th>\n",
              "      <th>Pot</th>\n",
              "      <th>Hemo</th>\n",
              "      <th>Wbcc</th>\n",
              "      <th>Rbcc</th>\n",
              "      <th>Htn</th>\n",
              "      <th>Class</th>\n",
              "    </tr>\n",
              "  </thead>\n",
              "  <tbody>\n",
              "    <tr>\n",
              "      <th>count</th>\n",
              "      <td>400.000000</td>\n",
              "      <td>400.000000</td>\n",
              "      <td>400.000000</td>\n",
              "      <td>400.000000</td>\n",
              "      <td>400.000000</td>\n",
              "      <td>400.00000</td>\n",
              "      <td>400.00000</td>\n",
              "      <td>400.000000</td>\n",
              "      <td>400.000000</td>\n",
              "      <td>400.000000</td>\n",
              "      <td>400.000000</td>\n",
              "      <td>400.000000</td>\n",
              "      <td>400.000000</td>\n",
              "      <td>400.000000</td>\n",
              "    </tr>\n",
              "    <tr>\n",
              "      <th>mean</th>\n",
              "      <td>76.455000</td>\n",
              "      <td>1.017712</td>\n",
              "      <td>1.015000</td>\n",
              "      <td>0.395000</td>\n",
              "      <td>0.882500</td>\n",
              "      <td>57.40550</td>\n",
              "      <td>3.07235</td>\n",
              "      <td>137.529025</td>\n",
              "      <td>4.627850</td>\n",
              "      <td>12.526900</td>\n",
              "      <td>8406.090000</td>\n",
              "      <td>4.708275</td>\n",
              "      <td>0.369350</td>\n",
              "      <td>0.625000</td>\n",
              "    </tr>\n",
              "    <tr>\n",
              "      <th>std</th>\n",
              "      <td>13.476536</td>\n",
              "      <td>0.005434</td>\n",
              "      <td>1.272329</td>\n",
              "      <td>1.040038</td>\n",
              "      <td>0.322418</td>\n",
              "      <td>49.28597</td>\n",
              "      <td>5.61749</td>\n",
              "      <td>9.204273</td>\n",
              "      <td>2.819783</td>\n",
              "      <td>2.716171</td>\n",
              "      <td>2523.219976</td>\n",
              "      <td>0.840315</td>\n",
              "      <td>0.482023</td>\n",
              "      <td>0.484729</td>\n",
              "    </tr>\n",
              "    <tr>\n",
              "      <th>min</th>\n",
              "      <td>50.000000</td>\n",
              "      <td>1.005000</td>\n",
              "      <td>0.000000</td>\n",
              "      <td>0.000000</td>\n",
              "      <td>0.000000</td>\n",
              "      <td>1.50000</td>\n",
              "      <td>0.40000</td>\n",
              "      <td>4.500000</td>\n",
              "      <td>2.500000</td>\n",
              "      <td>3.100000</td>\n",
              "      <td>2200.000000</td>\n",
              "      <td>2.100000</td>\n",
              "      <td>0.000000</td>\n",
              "      <td>0.000000</td>\n",
              "    </tr>\n",
              "    <tr>\n",
              "      <th>25%</th>\n",
              "      <td>70.000000</td>\n",
              "      <td>1.015000</td>\n",
              "      <td>0.000000</td>\n",
              "      <td>0.000000</td>\n",
              "      <td>1.000000</td>\n",
              "      <td>27.00000</td>\n",
              "      <td>0.90000</td>\n",
              "      <td>135.000000</td>\n",
              "      <td>4.000000</td>\n",
              "      <td>10.875000</td>\n",
              "      <td>6975.000000</td>\n",
              "      <td>4.500000</td>\n",
              "      <td>0.000000</td>\n",
              "      <td>0.000000</td>\n",
              "    </tr>\n",
              "    <tr>\n",
              "      <th>50%</th>\n",
              "      <td>78.000000</td>\n",
              "      <td>1.020000</td>\n",
              "      <td>1.000000</td>\n",
              "      <td>0.000000</td>\n",
              "      <td>1.000000</td>\n",
              "      <td>44.00000</td>\n",
              "      <td>1.40000</td>\n",
              "      <td>137.530000</td>\n",
              "      <td>4.630000</td>\n",
              "      <td>12.530000</td>\n",
              "      <td>8406.000000</td>\n",
              "      <td>4.710000</td>\n",
              "      <td>0.000000</td>\n",
              "      <td>1.000000</td>\n",
              "    </tr>\n",
              "    <tr>\n",
              "      <th>75%</th>\n",
              "      <td>80.000000</td>\n",
              "      <td>1.020000</td>\n",
              "      <td>2.000000</td>\n",
              "      <td>0.000000</td>\n",
              "      <td>1.000000</td>\n",
              "      <td>61.75000</td>\n",
              "      <td>3.07000</td>\n",
              "      <td>141.000000</td>\n",
              "      <td>4.800000</td>\n",
              "      <td>14.625000</td>\n",
              "      <td>9400.000000</td>\n",
              "      <td>5.100000</td>\n",
              "      <td>1.000000</td>\n",
              "      <td>1.000000</td>\n",
              "    </tr>\n",
              "    <tr>\n",
              "      <th>max</th>\n",
              "      <td>180.000000</td>\n",
              "      <td>1.025000</td>\n",
              "      <td>5.000000</td>\n",
              "      <td>5.000000</td>\n",
              "      <td>1.000000</td>\n",
              "      <td>391.00000</td>\n",
              "      <td>76.00000</td>\n",
              "      <td>163.000000</td>\n",
              "      <td>47.000000</td>\n",
              "      <td>17.800000</td>\n",
              "      <td>26400.000000</td>\n",
              "      <td>8.000000</td>\n",
              "      <td>1.000000</td>\n",
              "      <td>1.000000</td>\n",
              "    </tr>\n",
              "  </tbody>\n",
              "</table>\n",
              "</div>\n",
              "      <button class=\"colab-df-convert\" onclick=\"convertToInteractive('df-760b307b-aef1-4f7e-abe8-87c7e14e31ac')\"\n",
              "              title=\"Convert this dataframe to an interactive table.\"\n",
              "              style=\"display:none;\">\n",
              "\n",
              "  <svg xmlns=\"http://www.w3.org/2000/svg\" height=\"24px\"viewBox=\"0 0 24 24\"\n",
              "       width=\"24px\">\n",
              "    <path d=\"M0 0h24v24H0V0z\" fill=\"none\"/>\n",
              "    <path d=\"M18.56 5.44l.94 2.06.94-2.06 2.06-.94-2.06-.94-.94-2.06-.94 2.06-2.06.94zm-11 1L8.5 8.5l.94-2.06 2.06-.94-2.06-.94L8.5 2.5l-.94 2.06-2.06.94zm10 10l.94 2.06.94-2.06 2.06-.94-2.06-.94-.94-2.06-.94 2.06-2.06.94z\"/><path d=\"M17.41 7.96l-1.37-1.37c-.4-.4-.92-.59-1.43-.59-.52 0-1.04.2-1.43.59L10.3 9.45l-7.72 7.72c-.78.78-.78 2.05 0 2.83L4 21.41c.39.39.9.59 1.41.59.51 0 1.02-.2 1.41-.59l7.78-7.78 2.81-2.81c.8-.78.8-2.07 0-2.86zM5.41 20L4 18.59l7.72-7.72 1.47 1.35L5.41 20z\"/>\n",
              "  </svg>\n",
              "      </button>\n",
              "\n",
              "\n",
              "\n",
              "    <div id=\"df-22f115ef-e2c7-407f-ad9a-532e66dd160e\">\n",
              "      <button class=\"colab-df-quickchart\" onclick=\"quickchart('df-22f115ef-e2c7-407f-ad9a-532e66dd160e')\"\n",
              "              title=\"Suggest charts.\"\n",
              "              style=\"display:none;\">\n",
              "\n",
              "<svg xmlns=\"http://www.w3.org/2000/svg\" height=\"24px\"viewBox=\"0 0 24 24\"\n",
              "     width=\"24px\">\n",
              "    <g>\n",
              "        <path d=\"M19 3H5c-1.1 0-2 .9-2 2v14c0 1.1.9 2 2 2h14c1.1 0 2-.9 2-2V5c0-1.1-.9-2-2-2zM9 17H7v-7h2v7zm4 0h-2V7h2v10zm4 0h-2v-4h2v4z\"/>\n",
              "    </g>\n",
              "</svg>\n",
              "      </button>\n",
              "    </div>\n",
              "\n",
              "<style>\n",
              "  .colab-df-quickchart {\n",
              "    background-color: #E8F0FE;\n",
              "    border: none;\n",
              "    border-radius: 50%;\n",
              "    cursor: pointer;\n",
              "    display: none;\n",
              "    fill: #1967D2;\n",
              "    height: 32px;\n",
              "    padding: 0 0 0 0;\n",
              "    width: 32px;\n",
              "  }\n",
              "\n",
              "  .colab-df-quickchart:hover {\n",
              "    background-color: #E2EBFA;\n",
              "    box-shadow: 0px 1px 2px rgba(60, 64, 67, 0.3), 0px 1px 3px 1px rgba(60, 64, 67, 0.15);\n",
              "    fill: #174EA6;\n",
              "  }\n",
              "\n",
              "  [theme=dark] .colab-df-quickchart {\n",
              "    background-color: #3B4455;\n",
              "    fill: #D2E3FC;\n",
              "  }\n",
              "\n",
              "  [theme=dark] .colab-df-quickchart:hover {\n",
              "    background-color: #434B5C;\n",
              "    box-shadow: 0px 1px 3px 1px rgba(0, 0, 0, 0.15);\n",
              "    filter: drop-shadow(0px 1px 2px rgba(0, 0, 0, 0.3));\n",
              "    fill: #FFFFFF;\n",
              "  }\n",
              "</style>\n",
              "\n",
              "    <script>\n",
              "      async function quickchart(key) {\n",
              "        const containerElement = document.querySelector('#' + key);\n",
              "        const charts = await google.colab.kernel.invokeFunction(\n",
              "            'suggestCharts', [key], {});\n",
              "      }\n",
              "    </script>\n",
              "\n",
              "      <script>\n",
              "\n",
              "function displayQuickchartButton(domScope) {\n",
              "  let quickchartButtonEl =\n",
              "    domScope.querySelector('#df-22f115ef-e2c7-407f-ad9a-532e66dd160e button.colab-df-quickchart');\n",
              "  quickchartButtonEl.style.display =\n",
              "    google.colab.kernel.accessAllowed ? 'block' : 'none';\n",
              "}\n",
              "\n",
              "        displayQuickchartButton(document);\n",
              "      </script>\n",
              "      <style>\n",
              "    .colab-df-container {\n",
              "      display:flex;\n",
              "      flex-wrap:wrap;\n",
              "      gap: 12px;\n",
              "    }\n",
              "\n",
              "    .colab-df-convert {\n",
              "      background-color: #E8F0FE;\n",
              "      border: none;\n",
              "      border-radius: 50%;\n",
              "      cursor: pointer;\n",
              "      display: none;\n",
              "      fill: #1967D2;\n",
              "      height: 32px;\n",
              "      padding: 0 0 0 0;\n",
              "      width: 32px;\n",
              "    }\n",
              "\n",
              "    .colab-df-convert:hover {\n",
              "      background-color: #E2EBFA;\n",
              "      box-shadow: 0px 1px 2px rgba(60, 64, 67, 0.3), 0px 1px 3px 1px rgba(60, 64, 67, 0.15);\n",
              "      fill: #174EA6;\n",
              "    }\n",
              "\n",
              "    [theme=dark] .colab-df-convert {\n",
              "      background-color: #3B4455;\n",
              "      fill: #D2E3FC;\n",
              "    }\n",
              "\n",
              "    [theme=dark] .colab-df-convert:hover {\n",
              "      background-color: #434B5C;\n",
              "      box-shadow: 0px 1px 3px 1px rgba(0, 0, 0, 0.15);\n",
              "      filter: drop-shadow(0px 1px 2px rgba(0, 0, 0, 0.3));\n",
              "      fill: #FFFFFF;\n",
              "    }\n",
              "  </style>\n",
              "\n",
              "      <script>\n",
              "        const buttonEl =\n",
              "          document.querySelector('#df-760b307b-aef1-4f7e-abe8-87c7e14e31ac button.colab-df-convert');\n",
              "        buttonEl.style.display =\n",
              "          google.colab.kernel.accessAllowed ? 'block' : 'none';\n",
              "\n",
              "        async function convertToInteractive(key) {\n",
              "          const element = document.querySelector('#df-760b307b-aef1-4f7e-abe8-87c7e14e31ac');\n",
              "          const dataTable =\n",
              "            await google.colab.kernel.invokeFunction('convertToInteractive',\n",
              "                                                     [key], {});\n",
              "          if (!dataTable) return;\n",
              "\n",
              "          const docLinkHtml = 'Like what you see? Visit the ' +\n",
              "            '<a target=\"_blank\" href=https://colab.research.google.com/notebooks/data_table.ipynb>data table notebook</a>'\n",
              "            + ' to learn more about interactive tables.';\n",
              "          element.innerHTML = '';\n",
              "          dataTable['output_type'] = 'display_data';\n",
              "          await google.colab.output.renderOutput(dataTable, element);\n",
              "          const docLink = document.createElement('div');\n",
              "          docLink.innerHTML = docLinkHtml;\n",
              "          element.appendChild(docLink);\n",
              "        }\n",
              "      </script>\n",
              "    </div>\n",
              "  </div>\n"
            ]
          },
          "metadata": {},
          "execution_count": 5
        }
      ]
    },
    {
      "cell_type": "code",
      "source": [
        "# See Null values if any\n",
        "\n",
        "df.isnull().sum()"
      ],
      "metadata": {
        "colab": {
          "base_uri": "https://localhost:8080/",
          "height": 0
        },
        "id": "D328hSTQBHD5",
        "outputId": "e87b6ea6-82e0-4c99-caa7-e5b9f1c1ca31"
      },
      "execution_count": 6,
      "outputs": [
        {
          "output_type": "execute_result",
          "data": {
            "text/plain": [
              "Bp       0\n",
              "Sg       0\n",
              "Al       0\n",
              "Su       0\n",
              "Rbc      0\n",
              "Bu       0\n",
              "Sc       0\n",
              "Sod      0\n",
              "Pot      0\n",
              "Hemo     0\n",
              "Wbcc     0\n",
              "Rbcc     0\n",
              "Htn      0\n",
              "Class    0\n",
              "dtype: int64"
            ]
          },
          "metadata": {},
          "execution_count": 6
        }
      ]
    },
    {
      "cell_type": "code",
      "source": [
        "# Count the classification values in target column\n",
        "\n",
        "df['Class'].value_counts()"
      ],
      "metadata": {
        "colab": {
          "base_uri": "https://localhost:8080/",
          "height": 0
        },
        "id": "XzurxIloBxOO",
        "outputId": "0455ec88-85b7-4b95-8d2a-04c874fb870d"
      },
      "execution_count": 7,
      "outputs": [
        {
          "output_type": "execute_result",
          "data": {
            "text/plain": [
              "1    250\n",
              "0    150\n",
              "Name: Class, dtype: int64"
            ]
          },
          "metadata": {},
          "execution_count": 7
        }
      ]
    },
    {
      "cell_type": "code",
      "source": [
        "df.shape"
      ],
      "metadata": {
        "colab": {
          "base_uri": "https://localhost:8080/",
          "height": 0
        },
        "id": "Tor1UicHB39X",
        "outputId": "aa810433-0b93-4a61-ac29-0f9d262389d9"
      },
      "execution_count": 8,
      "outputs": [
        {
          "output_type": "execute_result",
          "data": {
            "text/plain": [
              "(400, 14)"
            ]
          },
          "metadata": {},
          "execution_count": 8
        }
      ]
    },
    {
      "cell_type": "markdown",
      "source": [
        "# Performing EDA on the dataset\n",
        "\n",
        "| Class | Meaning                                                     |\n",
        "|-------|-------------------------------------------------------------|\n",
        "| 0     | Negative result or absence of a Kidney Disease   |\n",
        "| 1     | Positive result or presence of Kidney Disease|\n"
      ],
      "metadata": {
        "id": "f4XKbt5ACNvj"
      }
    },
    {
      "cell_type": "code",
      "source": [
        "# Correlation checking ( positive value means positive correlation and negative value means negative correlation and 0 means no correlation)\n",
        "\n",
        "correlation_data = df.corr()\n",
        "correlation_data"
      ],
      "metadata": {
        "colab": {
          "base_uri": "https://localhost:8080/",
          "height": 532
        },
        "id": "Zy6jYP5lCA4Q",
        "outputId": "0fa38c81-1b08-4ef2-b7f2-745d490fd313"
      },
      "execution_count": 9,
      "outputs": [
        {
          "output_type": "execute_result",
          "data": {
            "text/plain": [
              "             Bp        Sg        Al        Su       Rbc        Bu        Sc  \\\n",
              "Bp     1.000000 -0.164057  0.146060  0.190277 -0.151478  0.184173  0.144469   \n",
              "Sg    -0.164057  1.000000 -0.460835 -0.292053  0.253894 -0.249263 -0.176141   \n",
              "Al     0.146060 -0.460835  1.000000  0.262564 -0.374484  0.405035  0.229396   \n",
              "Su     0.190277 -0.292053  0.262564  1.000000 -0.092940  0.126074  0.094568   \n",
              "Rbc   -0.151478  0.253894 -0.374484 -0.092940  1.000000 -0.236270 -0.138391   \n",
              "Bu     0.184173 -0.249263  0.405035  0.126074 -0.236270  1.000000  0.581176   \n",
              "Sc     0.144469 -0.176141  0.229396  0.094568 -0.138391  0.581176  1.000000   \n",
              "Sod   -0.103383  0.217456 -0.270709 -0.053448  0.140568 -0.307357 -0.624493   \n",
              "Pot    0.066791 -0.063450  0.114484  0.180098  0.018164  0.336954  0.205361   \n",
              "Hemo  -0.279441  0.492103 -0.548681 -0.156875  0.280991 -0.540699 -0.342053   \n",
              "Wbcc   0.025963 -0.206880  0.200664  0.159033 -0.002205  0.041530 -0.005420   \n",
              "Rbcc  -0.220827  0.443437 -0.454131 -0.163825  0.202298 -0.465947 -0.323056   \n",
              "Htn    0.268003 -0.318956  0.478309  0.253179 -0.139342  0.387503  0.273904   \n",
              "Class  0.290145 -0.659504  0.598389  0.294555 -0.282642  0.371982  0.294076   \n",
              "\n",
              "            Sod       Pot      Hemo      Wbcc      Rbcc       Htn     Class  \n",
              "Bp    -0.103383  0.066791 -0.279441  0.025963 -0.220827  0.268003  0.290145  \n",
              "Sg     0.217456 -0.063450  0.492103 -0.206880  0.443437 -0.318956 -0.659504  \n",
              "Al    -0.270709  0.114484 -0.548681  0.200664 -0.454131  0.478309  0.598389  \n",
              "Su    -0.053448  0.180098 -0.156875  0.159033 -0.163825  0.253179  0.294555  \n",
              "Rbc    0.140568  0.018164  0.280991 -0.002205  0.202298 -0.139342 -0.282642  \n",
              "Bu    -0.307357  0.336954 -0.540699  0.041530 -0.465947  0.387503  0.371982  \n",
              "Sc    -0.624493  0.205361 -0.342053 -0.005420 -0.323056  0.273904  0.294076  \n",
              "Sod    1.000000  0.067414  0.333604  0.006334  0.316883 -0.306501 -0.342268  \n",
              "Pot    0.067414  1.000000 -0.100612 -0.074057 -0.120418  0.057028  0.077063  \n",
              "Hemo   0.333604 -0.100612  1.000000 -0.153806  0.681864 -0.576932 -0.729537  \n",
              "Wbcc   0.006334 -0.074057 -0.153806  1.000000 -0.151380  0.123790  0.205266  \n",
              "Rbcc   0.316883 -0.120418  0.681864 -0.151380  1.000000 -0.527051 -0.590248  \n",
              "Htn   -0.306501  0.057028 -0.576932  0.123790 -0.527051  1.000000  0.586340  \n",
              "Class -0.342268  0.077063 -0.729537  0.205266 -0.590248  0.586340  1.000000  "
            ],
            "text/html": [
              "\n",
              "\n",
              "  <div id=\"df-e1f45fb7-5692-4a41-98d7-0041216ad8e6\">\n",
              "    <div class=\"colab-df-container\">\n",
              "      <div>\n",
              "<style scoped>\n",
              "    .dataframe tbody tr th:only-of-type {\n",
              "        vertical-align: middle;\n",
              "    }\n",
              "\n",
              "    .dataframe tbody tr th {\n",
              "        vertical-align: top;\n",
              "    }\n",
              "\n",
              "    .dataframe thead th {\n",
              "        text-align: right;\n",
              "    }\n",
              "</style>\n",
              "<table border=\"1\" class=\"dataframe\">\n",
              "  <thead>\n",
              "    <tr style=\"text-align: right;\">\n",
              "      <th></th>\n",
              "      <th>Bp</th>\n",
              "      <th>Sg</th>\n",
              "      <th>Al</th>\n",
              "      <th>Su</th>\n",
              "      <th>Rbc</th>\n",
              "      <th>Bu</th>\n",
              "      <th>Sc</th>\n",
              "      <th>Sod</th>\n",
              "      <th>Pot</th>\n",
              "      <th>Hemo</th>\n",
              "      <th>Wbcc</th>\n",
              "      <th>Rbcc</th>\n",
              "      <th>Htn</th>\n",
              "      <th>Class</th>\n",
              "    </tr>\n",
              "  </thead>\n",
              "  <tbody>\n",
              "    <tr>\n",
              "      <th>Bp</th>\n",
              "      <td>1.000000</td>\n",
              "      <td>-0.164057</td>\n",
              "      <td>0.146060</td>\n",
              "      <td>0.190277</td>\n",
              "      <td>-0.151478</td>\n",
              "      <td>0.184173</td>\n",
              "      <td>0.144469</td>\n",
              "      <td>-0.103383</td>\n",
              "      <td>0.066791</td>\n",
              "      <td>-0.279441</td>\n",
              "      <td>0.025963</td>\n",
              "      <td>-0.220827</td>\n",
              "      <td>0.268003</td>\n",
              "      <td>0.290145</td>\n",
              "    </tr>\n",
              "    <tr>\n",
              "      <th>Sg</th>\n",
              "      <td>-0.164057</td>\n",
              "      <td>1.000000</td>\n",
              "      <td>-0.460835</td>\n",
              "      <td>-0.292053</td>\n",
              "      <td>0.253894</td>\n",
              "      <td>-0.249263</td>\n",
              "      <td>-0.176141</td>\n",
              "      <td>0.217456</td>\n",
              "      <td>-0.063450</td>\n",
              "      <td>0.492103</td>\n",
              "      <td>-0.206880</td>\n",
              "      <td>0.443437</td>\n",
              "      <td>-0.318956</td>\n",
              "      <td>-0.659504</td>\n",
              "    </tr>\n",
              "    <tr>\n",
              "      <th>Al</th>\n",
              "      <td>0.146060</td>\n",
              "      <td>-0.460835</td>\n",
              "      <td>1.000000</td>\n",
              "      <td>0.262564</td>\n",
              "      <td>-0.374484</td>\n",
              "      <td>0.405035</td>\n",
              "      <td>0.229396</td>\n",
              "      <td>-0.270709</td>\n",
              "      <td>0.114484</td>\n",
              "      <td>-0.548681</td>\n",
              "      <td>0.200664</td>\n",
              "      <td>-0.454131</td>\n",
              "      <td>0.478309</td>\n",
              "      <td>0.598389</td>\n",
              "    </tr>\n",
              "    <tr>\n",
              "      <th>Su</th>\n",
              "      <td>0.190277</td>\n",
              "      <td>-0.292053</td>\n",
              "      <td>0.262564</td>\n",
              "      <td>1.000000</td>\n",
              "      <td>-0.092940</td>\n",
              "      <td>0.126074</td>\n",
              "      <td>0.094568</td>\n",
              "      <td>-0.053448</td>\n",
              "      <td>0.180098</td>\n",
              "      <td>-0.156875</td>\n",
              "      <td>0.159033</td>\n",
              "      <td>-0.163825</td>\n",
              "      <td>0.253179</td>\n",
              "      <td>0.294555</td>\n",
              "    </tr>\n",
              "    <tr>\n",
              "      <th>Rbc</th>\n",
              "      <td>-0.151478</td>\n",
              "      <td>0.253894</td>\n",
              "      <td>-0.374484</td>\n",
              "      <td>-0.092940</td>\n",
              "      <td>1.000000</td>\n",
              "      <td>-0.236270</td>\n",
              "      <td>-0.138391</td>\n",
              "      <td>0.140568</td>\n",
              "      <td>0.018164</td>\n",
              "      <td>0.280991</td>\n",
              "      <td>-0.002205</td>\n",
              "      <td>0.202298</td>\n",
              "      <td>-0.139342</td>\n",
              "      <td>-0.282642</td>\n",
              "    </tr>\n",
              "    <tr>\n",
              "      <th>Bu</th>\n",
              "      <td>0.184173</td>\n",
              "      <td>-0.249263</td>\n",
              "      <td>0.405035</td>\n",
              "      <td>0.126074</td>\n",
              "      <td>-0.236270</td>\n",
              "      <td>1.000000</td>\n",
              "      <td>0.581176</td>\n",
              "      <td>-0.307357</td>\n",
              "      <td>0.336954</td>\n",
              "      <td>-0.540699</td>\n",
              "      <td>0.041530</td>\n",
              "      <td>-0.465947</td>\n",
              "      <td>0.387503</td>\n",
              "      <td>0.371982</td>\n",
              "    </tr>\n",
              "    <tr>\n",
              "      <th>Sc</th>\n",
              "      <td>0.144469</td>\n",
              "      <td>-0.176141</td>\n",
              "      <td>0.229396</td>\n",
              "      <td>0.094568</td>\n",
              "      <td>-0.138391</td>\n",
              "      <td>0.581176</td>\n",
              "      <td>1.000000</td>\n",
              "      <td>-0.624493</td>\n",
              "      <td>0.205361</td>\n",
              "      <td>-0.342053</td>\n",
              "      <td>-0.005420</td>\n",
              "      <td>-0.323056</td>\n",
              "      <td>0.273904</td>\n",
              "      <td>0.294076</td>\n",
              "    </tr>\n",
              "    <tr>\n",
              "      <th>Sod</th>\n",
              "      <td>-0.103383</td>\n",
              "      <td>0.217456</td>\n",
              "      <td>-0.270709</td>\n",
              "      <td>-0.053448</td>\n",
              "      <td>0.140568</td>\n",
              "      <td>-0.307357</td>\n",
              "      <td>-0.624493</td>\n",
              "      <td>1.000000</td>\n",
              "      <td>0.067414</td>\n",
              "      <td>0.333604</td>\n",
              "      <td>0.006334</td>\n",
              "      <td>0.316883</td>\n",
              "      <td>-0.306501</td>\n",
              "      <td>-0.342268</td>\n",
              "    </tr>\n",
              "    <tr>\n",
              "      <th>Pot</th>\n",
              "      <td>0.066791</td>\n",
              "      <td>-0.063450</td>\n",
              "      <td>0.114484</td>\n",
              "      <td>0.180098</td>\n",
              "      <td>0.018164</td>\n",
              "      <td>0.336954</td>\n",
              "      <td>0.205361</td>\n",
              "      <td>0.067414</td>\n",
              "      <td>1.000000</td>\n",
              "      <td>-0.100612</td>\n",
              "      <td>-0.074057</td>\n",
              "      <td>-0.120418</td>\n",
              "      <td>0.057028</td>\n",
              "      <td>0.077063</td>\n",
              "    </tr>\n",
              "    <tr>\n",
              "      <th>Hemo</th>\n",
              "      <td>-0.279441</td>\n",
              "      <td>0.492103</td>\n",
              "      <td>-0.548681</td>\n",
              "      <td>-0.156875</td>\n",
              "      <td>0.280991</td>\n",
              "      <td>-0.540699</td>\n",
              "      <td>-0.342053</td>\n",
              "      <td>0.333604</td>\n",
              "      <td>-0.100612</td>\n",
              "      <td>1.000000</td>\n",
              "      <td>-0.153806</td>\n",
              "      <td>0.681864</td>\n",
              "      <td>-0.576932</td>\n",
              "      <td>-0.729537</td>\n",
              "    </tr>\n",
              "    <tr>\n",
              "      <th>Wbcc</th>\n",
              "      <td>0.025963</td>\n",
              "      <td>-0.206880</td>\n",
              "      <td>0.200664</td>\n",
              "      <td>0.159033</td>\n",
              "      <td>-0.002205</td>\n",
              "      <td>0.041530</td>\n",
              "      <td>-0.005420</td>\n",
              "      <td>0.006334</td>\n",
              "      <td>-0.074057</td>\n",
              "      <td>-0.153806</td>\n",
              "      <td>1.000000</td>\n",
              "      <td>-0.151380</td>\n",
              "      <td>0.123790</td>\n",
              "      <td>0.205266</td>\n",
              "    </tr>\n",
              "    <tr>\n",
              "      <th>Rbcc</th>\n",
              "      <td>-0.220827</td>\n",
              "      <td>0.443437</td>\n",
              "      <td>-0.454131</td>\n",
              "      <td>-0.163825</td>\n",
              "      <td>0.202298</td>\n",
              "      <td>-0.465947</td>\n",
              "      <td>-0.323056</td>\n",
              "      <td>0.316883</td>\n",
              "      <td>-0.120418</td>\n",
              "      <td>0.681864</td>\n",
              "      <td>-0.151380</td>\n",
              "      <td>1.000000</td>\n",
              "      <td>-0.527051</td>\n",
              "      <td>-0.590248</td>\n",
              "    </tr>\n",
              "    <tr>\n",
              "      <th>Htn</th>\n",
              "      <td>0.268003</td>\n",
              "      <td>-0.318956</td>\n",
              "      <td>0.478309</td>\n",
              "      <td>0.253179</td>\n",
              "      <td>-0.139342</td>\n",
              "      <td>0.387503</td>\n",
              "      <td>0.273904</td>\n",
              "      <td>-0.306501</td>\n",
              "      <td>0.057028</td>\n",
              "      <td>-0.576932</td>\n",
              "      <td>0.123790</td>\n",
              "      <td>-0.527051</td>\n",
              "      <td>1.000000</td>\n",
              "      <td>0.586340</td>\n",
              "    </tr>\n",
              "    <tr>\n",
              "      <th>Class</th>\n",
              "      <td>0.290145</td>\n",
              "      <td>-0.659504</td>\n",
              "      <td>0.598389</td>\n",
              "      <td>0.294555</td>\n",
              "      <td>-0.282642</td>\n",
              "      <td>0.371982</td>\n",
              "      <td>0.294076</td>\n",
              "      <td>-0.342268</td>\n",
              "      <td>0.077063</td>\n",
              "      <td>-0.729537</td>\n",
              "      <td>0.205266</td>\n",
              "      <td>-0.590248</td>\n",
              "      <td>0.586340</td>\n",
              "      <td>1.000000</td>\n",
              "    </tr>\n",
              "  </tbody>\n",
              "</table>\n",
              "</div>\n",
              "      <button class=\"colab-df-convert\" onclick=\"convertToInteractive('df-e1f45fb7-5692-4a41-98d7-0041216ad8e6')\"\n",
              "              title=\"Convert this dataframe to an interactive table.\"\n",
              "              style=\"display:none;\">\n",
              "\n",
              "  <svg xmlns=\"http://www.w3.org/2000/svg\" height=\"24px\"viewBox=\"0 0 24 24\"\n",
              "       width=\"24px\">\n",
              "    <path d=\"M0 0h24v24H0V0z\" fill=\"none\"/>\n",
              "    <path d=\"M18.56 5.44l.94 2.06.94-2.06 2.06-.94-2.06-.94-.94-2.06-.94 2.06-2.06.94zm-11 1L8.5 8.5l.94-2.06 2.06-.94-2.06-.94L8.5 2.5l-.94 2.06-2.06.94zm10 10l.94 2.06.94-2.06 2.06-.94-2.06-.94-.94-2.06-.94 2.06-2.06.94z\"/><path d=\"M17.41 7.96l-1.37-1.37c-.4-.4-.92-.59-1.43-.59-.52 0-1.04.2-1.43.59L10.3 9.45l-7.72 7.72c-.78.78-.78 2.05 0 2.83L4 21.41c.39.39.9.59 1.41.59.51 0 1.02-.2 1.41-.59l7.78-7.78 2.81-2.81c.8-.78.8-2.07 0-2.86zM5.41 20L4 18.59l7.72-7.72 1.47 1.35L5.41 20z\"/>\n",
              "  </svg>\n",
              "      </button>\n",
              "\n",
              "\n",
              "\n",
              "    <div id=\"df-3ad61468-12c3-49fe-a256-a6a7ecb3c26a\">\n",
              "      <button class=\"colab-df-quickchart\" onclick=\"quickchart('df-3ad61468-12c3-49fe-a256-a6a7ecb3c26a')\"\n",
              "              title=\"Suggest charts.\"\n",
              "              style=\"display:none;\">\n",
              "\n",
              "<svg xmlns=\"http://www.w3.org/2000/svg\" height=\"24px\"viewBox=\"0 0 24 24\"\n",
              "     width=\"24px\">\n",
              "    <g>\n",
              "        <path d=\"M19 3H5c-1.1 0-2 .9-2 2v14c0 1.1.9 2 2 2h14c1.1 0 2-.9 2-2V5c0-1.1-.9-2-2-2zM9 17H7v-7h2v7zm4 0h-2V7h2v10zm4 0h-2v-4h2v4z\"/>\n",
              "    </g>\n",
              "</svg>\n",
              "      </button>\n",
              "    </div>\n",
              "\n",
              "<style>\n",
              "  .colab-df-quickchart {\n",
              "    background-color: #E8F0FE;\n",
              "    border: none;\n",
              "    border-radius: 50%;\n",
              "    cursor: pointer;\n",
              "    display: none;\n",
              "    fill: #1967D2;\n",
              "    height: 32px;\n",
              "    padding: 0 0 0 0;\n",
              "    width: 32px;\n",
              "  }\n",
              "\n",
              "  .colab-df-quickchart:hover {\n",
              "    background-color: #E2EBFA;\n",
              "    box-shadow: 0px 1px 2px rgba(60, 64, 67, 0.3), 0px 1px 3px 1px rgba(60, 64, 67, 0.15);\n",
              "    fill: #174EA6;\n",
              "  }\n",
              "\n",
              "  [theme=dark] .colab-df-quickchart {\n",
              "    background-color: #3B4455;\n",
              "    fill: #D2E3FC;\n",
              "  }\n",
              "\n",
              "  [theme=dark] .colab-df-quickchart:hover {\n",
              "    background-color: #434B5C;\n",
              "    box-shadow: 0px 1px 3px 1px rgba(0, 0, 0, 0.15);\n",
              "    filter: drop-shadow(0px 1px 2px rgba(0, 0, 0, 0.3));\n",
              "    fill: #FFFFFF;\n",
              "  }\n",
              "</style>\n",
              "\n",
              "    <script>\n",
              "      async function quickchart(key) {\n",
              "        const containerElement = document.querySelector('#' + key);\n",
              "        const charts = await google.colab.kernel.invokeFunction(\n",
              "            'suggestCharts', [key], {});\n",
              "      }\n",
              "    </script>\n",
              "\n",
              "      <script>\n",
              "\n",
              "function displayQuickchartButton(domScope) {\n",
              "  let quickchartButtonEl =\n",
              "    domScope.querySelector('#df-3ad61468-12c3-49fe-a256-a6a7ecb3c26a button.colab-df-quickchart');\n",
              "  quickchartButtonEl.style.display =\n",
              "    google.colab.kernel.accessAllowed ? 'block' : 'none';\n",
              "}\n",
              "\n",
              "        displayQuickchartButton(document);\n",
              "      </script>\n",
              "      <style>\n",
              "    .colab-df-container {\n",
              "      display:flex;\n",
              "      flex-wrap:wrap;\n",
              "      gap: 12px;\n",
              "    }\n",
              "\n",
              "    .colab-df-convert {\n",
              "      background-color: #E8F0FE;\n",
              "      border: none;\n",
              "      border-radius: 50%;\n",
              "      cursor: pointer;\n",
              "      display: none;\n",
              "      fill: #1967D2;\n",
              "      height: 32px;\n",
              "      padding: 0 0 0 0;\n",
              "      width: 32px;\n",
              "    }\n",
              "\n",
              "    .colab-df-convert:hover {\n",
              "      background-color: #E2EBFA;\n",
              "      box-shadow: 0px 1px 2px rgba(60, 64, 67, 0.3), 0px 1px 3px 1px rgba(60, 64, 67, 0.15);\n",
              "      fill: #174EA6;\n",
              "    }\n",
              "\n",
              "    [theme=dark] .colab-df-convert {\n",
              "      background-color: #3B4455;\n",
              "      fill: #D2E3FC;\n",
              "    }\n",
              "\n",
              "    [theme=dark] .colab-df-convert:hover {\n",
              "      background-color: #434B5C;\n",
              "      box-shadow: 0px 1px 3px 1px rgba(0, 0, 0, 0.15);\n",
              "      filter: drop-shadow(0px 1px 2px rgba(0, 0, 0, 0.3));\n",
              "      fill: #FFFFFF;\n",
              "    }\n",
              "  </style>\n",
              "\n",
              "      <script>\n",
              "        const buttonEl =\n",
              "          document.querySelector('#df-e1f45fb7-5692-4a41-98d7-0041216ad8e6 button.colab-df-convert');\n",
              "        buttonEl.style.display =\n",
              "          google.colab.kernel.accessAllowed ? 'block' : 'none';\n",
              "\n",
              "        async function convertToInteractive(key) {\n",
              "          const element = document.querySelector('#df-e1f45fb7-5692-4a41-98d7-0041216ad8e6');\n",
              "          const dataTable =\n",
              "            await google.colab.kernel.invokeFunction('convertToInteractive',\n",
              "                                                     [key], {});\n",
              "          if (!dataTable) return;\n",
              "\n",
              "          const docLinkHtml = 'Like what you see? Visit the ' +\n",
              "            '<a target=\"_blank\" href=https://colab.research.google.com/notebooks/data_table.ipynb>data table notebook</a>'\n",
              "            + ' to learn more about interactive tables.';\n",
              "          element.innerHTML = '';\n",
              "          dataTable['output_type'] = 'display_data';\n",
              "          await google.colab.output.renderOutput(dataTable, element);\n",
              "          const docLink = document.createElement('div');\n",
              "          docLink.innerHTML = docLinkHtml;\n",
              "          element.appendChild(docLink);\n",
              "        }\n",
              "      </script>\n",
              "    </div>\n",
              "  </div>\n"
            ]
          },
          "metadata": {},
          "execution_count": 9
        }
      ]
    },
    {
      "cell_type": "code",
      "source": [
        "# Create a heatmap to visualise the correlation\n",
        "\n",
        "plt.figure(figsize=(10, 10))\n",
        "sns.heatmap(correlation_data,cbar=True, square=True, fmt='.1f', annot=True, annot_kws={'size':8}, cmap='Blues')"
      ],
      "metadata": {
        "colab": {
          "base_uri": "https://localhost:8080/",
          "height": 829
        },
        "id": "s8cLzf19Cgys",
        "outputId": "e77a5ea5-9143-4ebd-e5e2-4b1541d1c031"
      },
      "execution_count": 10,
      "outputs": [
        {
          "output_type": "execute_result",
          "data": {
            "text/plain": [
              "<Axes: >"
            ]
          },
          "metadata": {},
          "execution_count": 10
        },
        {
          "output_type": "display_data",
          "data": {
            "text/plain": [
              "<Figure size 1000x1000 with 2 Axes>"
            ],
            "image/png": "[encoded data removed]"
          },
          "metadata": {}
        }
      ]
    },
    {
      "cell_type": "code",
      "source": [
        "# Scatter plots to visualise data class\n",
        "\n",
        "sns.scatterplot(x=df['Bp'],y=df['Sg'],hue=df['Class'])"
      ],
      "metadata": {
        "colab": {
          "base_uri": "https://localhost:8080/",
          "height": 466
        },
        "id": "y9FNMGQ_CroF",
        "outputId": "794c563d-788d-454b-f729-404957f5eac2"
      },
      "execution_count": 11,
      "outputs": [
        {
          "output_type": "execute_result",
          "data": {
            "text/plain": [
              "<Axes: xlabel='Bp', ylabel='Sg'>"
            ]
          },
          "metadata": {},
          "execution_count": 11
        },
        {
          "output_type": "display_data",
          "data": {
            "text/plain": [
              "<Figure size 640x480 with 1 Axes>"
            ],
            "image/png": "[encoded data removed]"
          },
          "metadata": {}
        }
      ]
    },
    {
      "cell_type": "code",
      "source": [
        "# Scatter plots to visualise data class\n",
        "\n",
        "sns.scatterplot(x=df['Al'],y=df['Bu'],hue=df['Class'])"
      ],
      "metadata": {
        "colab": {
          "base_uri": "https://localhost:8080/",
          "height": 466
        },
        "id": "qecvD5uwDT-h",
        "outputId": "096b6d0c-6322-4cdf-fcca-12e954317003"
      },
      "execution_count": 12,
      "outputs": [
        {
          "output_type": "execute_result",
          "data": {
            "text/plain": [
              "<Axes: xlabel='Al', ylabel='Bu'>"
            ]
          },
          "metadata": {},
          "execution_count": 12
        },
        {
          "output_type": "display_data",
          "data": {
            "text/plain": [
              "<Figure size 640x480 with 1 Axes>"
            ],
            "image/png": "[encoded data removed]"
          },
          "metadata": {}
        }
      ]
    },
    {
      "cell_type": "code",
      "source": [
        "# Scatter plots to visualise data class\n",
        "\n",
        "sns.scatterplot(x=df['Al'],y=df['Rbc'],hue=df['Class'])"
      ],
      "metadata": {
        "colab": {
          "base_uri": "https://localhost:8080/",
          "height": 466
        },
        "id": "n73-7o8RESw4",
        "outputId": "494cc2d1-ca55-45c3-8342-159973a2c6dc"
      },
      "execution_count": 13,
      "outputs": [
        {
          "output_type": "execute_result",
          "data": {
            "text/plain": [
              "<Axes: xlabel='Al', ylabel='Rbc'>"
            ]
          },
          "metadata": {},
          "execution_count": 13
        },
        {
          "output_type": "display_data",
          "data": {
            "text/plain": [
              "<Figure size 640x480 with 1 Axes>"
            ],
            "image/png": "[encoded data removed]"
          },
          "metadata": {}
        }
      ]
    },
    {
      "cell_type": "code",
      "source": [
        "# Scatter plots to visualise data class\n",
        "\n",
        "sns.scatterplot(x=df['Rbc'],y=df['Hemo'],hue=df['Class'])"
      ],
      "metadata": {
        "colab": {
          "base_uri": "https://localhost:8080/",
          "height": 466
        },
        "id": "QLmhBd3DEv4U",
        "outputId": "916b02e2-26b6-4790-afe6-934cac56ae07"
      },
      "execution_count": 14,
      "outputs": [
        {
          "output_type": "execute_result",
          "data": {
            "text/plain": [
              "<Axes: xlabel='Rbc', ylabel='Hemo'>"
            ]
          },
          "metadata": {},
          "execution_count": 14
        },
        {
          "output_type": "display_data",
          "data": {
            "text/plain": [
              "<Figure size 640x480 with 1 Axes>"
            ],
            "image/png": "[encoded data removed]"
          },
          "metadata": {}
        }
      ]
    },
    {
      "cell_type": "code",
      "source": [
        "# Visualising count plots\n",
        "\n",
        "sns.countplot(x=df['Class'],data=df)"
      ],
      "metadata": {
        "colab": {
          "base_uri": "https://localhost:8080/",
          "height": 466
        },
        "id": "SoOShR_6E8le",
        "outputId": "77e0bde5-847b-4bc3-8d8d-935fd1b18749"
      },
      "execution_count": 15,
      "outputs": [
        {
          "output_type": "execute_result",
          "data": {
            "text/plain": [
              "<Axes: xlabel='Class', ylabel='count'>"
            ]
          },
          "metadata": {},
          "execution_count": 15
        },
        {
          "output_type": "display_data",
          "data": {
            "text/plain": [
              "<Figure size 640x480 with 1 Axes>"
            ],
            "image/png": "[encoded data removed]"
          },
          "metadata": {}
        }
      ]
    },
    {
      "cell_type": "code",
      "source": [
        "# Htn is hypertension , counting the disease class wrt hypertension levels\n",
        "\n",
        "sns.countplot(x=df['Htn'],hue=df['Class'],data=df)\n",
        "plt.legend(['Disease Absent','Disease Present'])"
      ],
      "metadata": {
        "colab": {
          "base_uri": "https://localhost:8080/",
          "height": 466
        },
        "id": "bwl4UtQcKsK8",
        "outputId": "0c1b11b6-7197-4cfd-cb80-452f9a202c99"
      },
      "execution_count": 16,
      "outputs": [
        {
          "output_type": "execute_result",
          "data": {
            "text/plain": [
              "<matplotlib.legend.Legend at 0x7f4a586e9ff0>"
            ]
          },
          "metadata": {},
          "execution_count": 16
        },
        {
          "output_type": "display_data",
          "data": {
            "text/plain": [
              "<Figure size 640x480 with 1 Axes>"
            ],
            "image/png": "[encoded data removed]"
          },
          "metadata": {}
        }
      ]
    },
    {
      "cell_type": "markdown",
      "source": [
        "## Analysing Distribution of various data on Kidney disease outcomes\n",
        "\n",
        "---\n",
        "\n",
        "Box-Plot determines the interquantile range(IQR) of the data points and determines the 25 and 75 percentile values.\n",
        " We can also The \"maximum\" and \"minimum\" values, in the context you provided, are used to define the boundaries for detecting outliers based on the IQR:\n",
        "\n",
        "Maximum: The maximum value is calculated as Q3 + 1.5 * IQR. Any data point above this value is considered a potential outlier.\n",
        "Minimum: The minimum value is calculated as Q1 - 1.5 * IQR. Any data point below this value is considered a potential outlier.\n",
        "\n",
        "![1_boxplots_0.jpg](data:image/jpeg;base64,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)"
      ],
      "metadata": {
        "id": "mLXjgjwIGT8B"
      }
    },
    {
      "cell_type": "code",
      "source": [
        "# Visualising distributions\n",
        "\n",
        "sns.boxplot(x=df['Class'],y=df['Bp'],data=df)\n",
        "plt.xlabel('Disease State')\n",
        "plt.ylabel('Blood Pressure')\n",
        "plt.title('Chronic Kidney Disease Distribution on BP levels')"
      ],
      "metadata": {
        "colab": {
          "base_uri": "https://localhost:8080/",
          "height": 489
        },
        "id": "SvAJ3mRBFIdW",
        "outputId": "7c397bff-f246-4287-ea2c-de564961e3fb"
      },
      "execution_count": 17,
      "outputs": [
        {
          "output_type": "execute_result",
          "data": {
            "text/plain": [
              "Text(0.5, 1.0, 'Chronic Kidney Disease Distribution on BP levels')"
            ]
          },
          "metadata": {},
          "execution_count": 17
        },
        {
          "output_type": "display_data",
          "data": {
            "text/plain": [
              "<Figure size 640x480 with 1 Axes>"
            ],
            "image/png": "[encoded data removed]"
          },
          "metadata": {}
        }
      ]
    },
    {
      "cell_type": "code",
      "source": [
        "sns.boxplot(x=df['Class'],y=df['Sg'],data=df)\n",
        "plt.xlabel('Disease State')\n",
        "plt.ylabel('Specific Gravity of urine')\n",
        "plt.title('Chronic Kidney Disease Distribution on urinal gravity levels')"
      ],
      "metadata": {
        "colab": {
          "base_uri": "https://localhost:8080/",
          "height": 489
        },
        "id": "vZnuK6EaGtxC",
        "outputId": "89375866-a0e6-4d58-a971-71f44aec944b"
      },
      "execution_count": 18,
      "outputs": [
        {
          "output_type": "execute_result",
          "data": {
            "text/plain": [
              "Text(0.5, 1.0, 'Chronic Kidney Disease Distribution on urinal gravity levels')"
            ]
          },
          "metadata": {},
          "execution_count": 18
        },
        {
          "output_type": "display_data",
          "data": {
            "text/plain": [
              "<Figure size 640x480 with 1 Axes>"
            ],
            "image/png": "[encoded data removed]"
          },
          "metadata": {}
        }
      ]
    },
    {
      "cell_type": "code",
      "source": [
        "sns.boxplot(x=df['Class'],y=df['Al'],data=df)\n",
        "plt.xlabel('Disease State')\n",
        "plt.ylabel('Albumin level in urine')\n",
        "plt.title('Chronic Kidney Disease Distribution on Albumin levels in urine')"
      ],
      "metadata": {
        "colab": {
          "base_uri": "https://localhost:8080/",
          "height": 489
        },
        "id": "EHOP9qBFJE_i",
        "outputId": "b796327c-e837-4495-c786-60bdd56bc646"
      },
      "execution_count": 19,
      "outputs": [
        {
          "output_type": "execute_result",
          "data": {
            "text/plain": [
              "Text(0.5, 1.0, 'Chronic Kidney Disease Distribution on Albumin levels in urine')"
            ]
          },
          "metadata": {},
          "execution_count": 19
        },
        {
          "output_type": "display_data",
          "data": {
            "text/plain": [
              "<Figure size 640x480 with 1 Axes>"
            ],
            "image/png": "[encoded data removed]"
          },
          "metadata": {}
        }
      ]
    },
    {
      "cell_type": "code",
      "source": [
        "sns.boxplot(x=df['Class'],y=df['Hemo'],data=df)\n",
        "plt.xlabel('Disease State')\n",
        "plt.ylabel('Haemoglobin measurement')\n",
        "plt.title('Chronic Kidney Disease Distribution on haemoglobin level')"
      ],
      "metadata": {
        "colab": {
          "base_uri": "https://localhost:8080/",
          "height": 489
        },
        "id": "wCK5pkrkJSZu",
        "outputId": "6f6e9314-3502-4649-d02a-986fa24dcecd"
      },
      "execution_count": 20,
      "outputs": [
        {
          "output_type": "execute_result",
          "data": {
            "text/plain": [
              "Text(0.5, 1.0, 'Chronic Kidney Disease Distribution on haemoglobin level')"
            ]
          },
          "metadata": {},
          "execution_count": 20
        },
        {
          "output_type": "display_data",
          "data": {
            "text/plain": [
              "<Figure size 640x480 with 1 Axes>"
            ],
            "image/png": "[encoded data removed]"
          },
          "metadata": {}
        }
      ]
    },
    {
      "cell_type": "code",
      "source": [
        "sns.boxplot(x=df['Class'],y=df['Rbcc'],data=df)\n",
        "plt.xlabel('Disease State')\n",
        "plt.ylabel('Red Blood Cell Count measurement')\n",
        "plt.title('Chronic Kidney Disease Distribution on RBC count level')"
      ],
      "metadata": {
        "colab": {
          "base_uri": "https://localhost:8080/",
          "height": 489
        },
        "id": "UqSNhbm_J50C",
        "outputId": "bfabdb9e-0c1b-4344-c126-bff4aaf7b857"
      },
      "execution_count": 21,
      "outputs": [
        {
          "output_type": "execute_result",
          "data": {
            "text/plain": [
              "Text(0.5, 1.0, 'Chronic Kidney Disease Distribution on RBC count level')"
            ]
          },
          "metadata": {},
          "execution_count": 21
        },
        {
          "output_type": "display_data",
          "data": {
            "text/plain": [
              "<Figure size 640x480 with 1 Axes>"
            ],
            "image/png": "[encoded data removed]"
          },
          "metadata": {}
        }
      ]
    },
    {
      "cell_type": "code",
      "source": [
        "sns.boxplot(x=df['Class'],y=df['Htn'],data=df)\n",
        "plt.xlabel('Disease State')\n",
        "plt.ylabel('Hypertension Level')\n",
        "plt.title('Chronic Kidney Disease Distribution on Hypertension level')"
      ],
      "metadata": {
        "colab": {
          "base_uri": "https://localhost:8080/",
          "height": 489
        },
        "id": "wSxFvJOmMQ-Y",
        "outputId": "9f00ef77-a7ce-4b5c-8296-e09e2fa1f290"
      },
      "execution_count": 22,
      "outputs": [
        {
          "output_type": "execute_result",
          "data": {
            "text/plain": [
              "Text(0.5, 1.0, 'Chronic Kidney Disease Distribution on Hypertension level')"
            ]
          },
          "metadata": {},
          "execution_count": 22
        },
        {
          "output_type": "display_data",
          "data": {
            "text/plain": [
              "<Figure size 640x480 with 1 Axes>"
            ],
            "image/png": "[encoded data removed]"
          },
          "metadata": {}
        }
      ]
    },
    {
      "cell_type": "code",
      "source": [
        "sns.boxplot(x=df['Class'],y=df['Pot'],data=df)\n",
        "plt.xlabel('Disease State')\n",
        "plt.ylabel('Potassium Level')\n",
        "plt.title('Chronic Kidney Disease Distribution on Potassium level')\n",
        "plt.ylim(1,10)"
      ],
      "metadata": {
        "id": "I0cLJB11J-QT",
        "colab": {
          "base_uri": "https://localhost:8080/",
          "height": 489
        },
        "outputId": "6d2e790a-a86c-4ad1-8ac7-61b9c3c015e5"
      },
      "execution_count": 23,
      "outputs": [
        {
          "output_type": "execute_result",
          "data": {
            "text/plain": [
              "(1.0, 10.0)"
            ]
          },
          "metadata": {},
          "execution_count": 23
        },
        {
          "output_type": "display_data",
          "data": {
            "text/plain": [
              "<Figure size 640x480 with 1 Axes>"
            ],
            "image/png": "[encoded data removed]"
          },
          "metadata": {}
        }
      ]
    },
    {
      "cell_type": "code",
      "source": [
        "sns.boxplot(x=df['Class'],y=df['Sod'],data=df)\n",
        "plt.xlabel('Disease State')\n",
        "plt.ylabel('Sodium Level')\n",
        "plt.title('Chronic Kidney Disease Distribution on Sodium level')\n",
        "plt.ylim(120,160)"
      ],
      "metadata": {
        "colab": {
          "base_uri": "https://localhost:8080/",
          "height": 489
        },
        "id": "RbCEDruvNeww",
        "outputId": "abccaabc-6fa9-4c32-f3b7-6736b436fdc2"
      },
      "execution_count": 24,
      "outputs": [
        {
          "output_type": "execute_result",
          "data": {
            "text/plain": [
              "(120.0, 160.0)"
            ]
          },
          "metadata": {},
          "execution_count": 24
        },
        {
          "output_type": "display_data",
          "data": {
            "text/plain": [
              "<Figure size 640x480 with 1 Axes>"
            ],
            "image/png": "[encoded data removed]"
          },
          "metadata": {}
        }
      ]
    },
    {
      "cell_type": "markdown",
      "source": [
        "##Outliers removal using IQR"
      ],
      "metadata": {
        "id": "LmVZ9dcxOr_6"
      }
    },
    {
      "cell_type": "code",
      "source": [
        "import pandas as pd\n",
        "\n",
        "# Assuming 'df' is your DataFrame\n",
        "\n",
        "# Iterate over each column\n",
        "for col in df.columns:\n",
        "  if col != 'Outcome':\n",
        "    # Calculate quartiles for the column\n",
        "    Q1 = df[col].quantile(0.25)\n",
        "    Q3 = df[col].quantile(0.75)\n",
        "\n",
        "    # Compute IQR for the column\n",
        "    IQR = Q3 - Q1\n",
        "\n",
        "    # Calculate lower and upper bounds for the column\n",
        "    lower_bound = Q1 - 1.5 * IQR\n",
        "    upper_bound = Q3 + 1.5 * IQR\n",
        "\n",
        "    # Replace outliers with the respective bound values\n",
        "    df.loc[df[col] < lower_bound, col] = lower_bound\n",
        "    df.loc[df[col] > upper_bound, col] = upper_bound\n",
        "\n",
        "\n",
        "    # Print the bounds for the column\n",
        "    print(f\"Column: {col}\")\n",
        "    print(f\"Lower Bound: {lower_bound}\")\n",
        "    print(f\"Upper Bound: {upper_bound}\")\n",
        "    print(\"--------------------\")\n"
      ],
      "metadata": {
        "colab": {
          "base_uri": "https://localhost:8080/",
          "height": 0
        },
        "id": "0PSjjgsmOP62",
        "outputId": "17b2e20e-8f66-4839-9596-c9c52621798b"
      },
      "execution_count": 25,
      "outputs": [
        {
          "output_type": "stream",
          "name": "stdout",
          "text": [
            "Column: Bp\n",
            "Lower Bound: 55.0\n",
            "Upper Bound: 95.0\n",
            "--------------------\n",
            "Column: Sg\n",
            "Lower Bound: 1.0074999999999998\n",
            "Upper Bound: 1.0275000000000003\n",
            "--------------------\n",
            "Column: Al\n",
            "Lower Bound: -3.0\n",
            "Upper Bound: 5.0\n",
            "--------------------\n",
            "Column: Su\n",
            "Lower Bound: 0.0\n",
            "Upper Bound: 0.0\n",
            "--------------------\n",
            "Column: Rbc\n",
            "Lower Bound: 1.0\n",
            "Upper Bound: 1.0\n",
            "--------------------\n",
            "Column: Bu\n",
            "Lower Bound: -25.125\n",
            "Upper Bound: 113.875\n",
            "--------------------\n",
            "Column: Sc\n",
            "Lower Bound: -2.355\n",
            "Upper Bound: 6.324999999999999\n",
            "--------------------\n",
            "Column: Sod\n",
            "Lower Bound: 126.0\n",
            "Upper Bound: 150.0\n",
            "--------------------\n",
            "Column: Pot\n",
            "Lower Bound: 2.8000000000000003\n",
            "Upper Bound: 6.0\n",
            "--------------------\n",
            "Column: Hemo\n",
            "Lower Bound: 5.25\n",
            "Upper Bound: 20.25\n",
            "--------------------\n",
            "Column: Wbcc\n",
            "Lower Bound: 3337.5\n",
            "Upper Bound: 13037.5\n",
            "--------------------\n",
            "Column: Rbcc\n",
            "Lower Bound: 3.6000000000000005\n",
            "Upper Bound: 5.999999999999999\n",
            "--------------------\n",
            "Column: Htn\n",
            "Lower Bound: -1.5\n",
            "Upper Bound: 2.5\n",
            "--------------------\n",
            "Column: Class\n",
            "Lower Bound: -1.5\n",
            "Upper Bound: 2.5\n",
            "--------------------\n"
          ]
        }
      ]
    },
    {
      "cell_type": "markdown",
      "source": [
        "## Creating the Classification ML Models"
      ],
      "metadata": {
        "id": "jRGaD_tNPbWI"
      }
    },
    {
      "cell_type": "code",
      "source": [
        "# importing models\n",
        "\n",
        "from sklearn.linear_model import LogisticRegression\n",
        "from sklearn.svm import SVC\n",
        "from sklearn.neighbors import KNeighborsClassifier\n",
        "from sklearn.ensemble import RandomForestClassifier\n",
        "from sklearn.tree import DecisionTreeClassifier"
      ],
      "metadata": {
        "id": "TDQXq2a7PD_M"
      },
      "execution_count": 26,
      "outputs": []
    },
    {
      "cell_type": "code",
      "source": [
        "from sklearn.model_selection import train_test_split\n",
        "from sklearn.model_selection import cross_val_score\n",
        "from sklearn.model_selection import GridSearchCV\n",
        "from sklearn.model_selection import RandomizedSearchCV\n",
        "from sklearn.metrics import accuracy_score"
      ],
      "metadata": {
        "id": "YAbJuyXRPqF6"
      },
      "execution_count": 27,
      "outputs": []
    },
    {
      "cell_type": "code",
      "source": [
        "# Train test split\n",
        "\n",
        "X = df.drop(columns='Class',axis=1)\n",
        "y = df['Class']"
      ],
      "metadata": {
        "id": "m4MaxILHQIZV"
      },
      "execution_count": 28,
      "outputs": []
    },
    {
      "cell_type": "code",
      "source": [
        "X"
      ],
      "metadata": {
        "colab": {
          "base_uri": "https://localhost:8080/",
          "height": 424
        },
        "id": "nLpXmiGAQcMn",
        "outputId": "7c299245-577c-4fd8-9936-7275e4e012ef"
      },
      "execution_count": 29,
      "outputs": [
        {
          "output_type": "execute_result",
          "data": {
            "text/plain": [
              "       Bp      Sg   Al   Su  Rbc    Bu   Sc     Sod   Pot  Hemo    Wbcc  Rbcc  \\\n",
              "0    80.0  1.0200  1.0  0.0  1.0  36.0  1.2  137.53  4.63  15.4  7800.0  5.20   \n",
              "1    55.0  1.0200  4.0  0.0  1.0  18.0  0.8  137.53  4.63  11.3  6000.0  4.71   \n",
              "2    80.0  1.0100  2.0  0.0  1.0  53.0  1.8  137.53  4.63   9.6  7500.0  4.71   \n",
              "3    70.0  1.0075  4.0  0.0  1.0  56.0  3.8  126.00  2.80  11.2  6700.0  3.90   \n",
              "4    80.0  1.0100  2.0  0.0  1.0  26.0  1.4  137.53  4.63  11.6  7300.0  4.60   \n",
              "..    ...     ...  ...  ...  ...   ...  ...     ...   ...   ...     ...   ...   \n",
              "395  80.0  1.0200  0.0  0.0  1.0  49.0  0.5  150.00  4.90  15.7  6700.0  4.90   \n",
              "396  70.0  1.0250  0.0  0.0  1.0  31.0  1.2  141.00  3.50  16.5  7800.0  6.00   \n",
              "397  80.0  1.0200  0.0  0.0  1.0  26.0  0.6  137.00  4.40  15.8  6600.0  5.40   \n",
              "398  60.0  1.0250  0.0  0.0  1.0  50.0  1.0  135.00  4.90  14.2  7200.0  5.90   \n",
              "399  80.0  1.0250  0.0  0.0  1.0  18.0  1.1  141.00  3.50  15.8  6800.0  6.00   \n",
              "\n",
              "     Htn  \n",
              "0    1.0  \n",
              "1    0.0  \n",
              "2    0.0  \n",
              "3    1.0  \n",
              "4    0.0  \n",
              "..   ...  \n",
              "395  0.0  \n",
              "396  0.0  \n",
              "397  0.0  \n",
              "398  0.0  \n",
              "399  0.0  \n",
              "\n",
              "[400 rows x 13 columns]"
            ],
            "text/html": [
              "\n",
              "\n",
              "  <div id=\"df-50f30af4-2d34-487e-9893-2df16b720a64\">\n",
              "    <div class=\"colab-df-container\">\n",
              "      <div>\n",
              "<style scoped>\n",
              "    .dataframe tbody tr th:only-of-type {\n",
              "        vertical-align: middle;\n",
              "    }\n",
              "\n",
              "    .dataframe tbody tr th {\n",
              "        vertical-align: top;\n",
              "    }\n",
              "\n",
              "    .dataframe thead th {\n",
              "        text-align: right;\n",
              "    }\n",
              "</style>\n",
              "<table border=\"1\" class=\"dataframe\">\n",
              "  <thead>\n",
              "    <tr style=\"text-align: right;\">\n",
              "      <th></th>\n",
              "      <th>Bp</th>\n",
              "      <th>Sg</th>\n",
              "      <th>Al</th>\n",
              "      <th>Su</th>\n",
              "      <th>Rbc</th>\n",
              "      <th>Bu</th>\n",
              "      <th>Sc</th>\n",
              "      <th>Sod</th>\n",
              "      <th>Pot</th>\n",
              "      <th>Hemo</th>\n",
              "      <th>Wbcc</th>\n",
              "      <th>Rbcc</th>\n",
              "      <th>Htn</th>\n",
              "    </tr>\n",
              "  </thead>\n",
              "  <tbody>\n",
              "    <tr>\n",
              "      <th>0</th>\n",
              "      <td>80.0</td>\n",
              "      <td>1.0200</td>\n",
              "      <td>1.0</td>\n",
              "      <td>0.0</td>\n",
              "      <td>1.0</td>\n",
              "      <td>36.0</td>\n",
              "      <td>1.2</td>\n",
              "      <td>137.53</td>\n",
              "      <td>4.63</td>\n",
              "      <td>15.4</td>\n",
              "      <td>7800.0</td>\n",
              "      <td>5.20</td>\n",
              "      <td>1.0</td>\n",
              "    </tr>\n",
              "    <tr>\n",
              "      <th>1</th>\n",
              "      <td>55.0</td>\n",
              "      <td>1.0200</td>\n",
              "      <td>4.0</td>\n",
              "      <td>0.0</td>\n",
              "      <td>1.0</td>\n",
              "      <td>18.0</td>\n",
              "      <td>0.8</td>\n",
              "      <td>137.53</td>\n",
              "      <td>4.63</td>\n",
              "      <td>11.3</td>\n",
              "      <td>6000.0</td>\n",
              "      <td>4.71</td>\n",
              "      <td>0.0</td>\n",
              "    </tr>\n",
              "    <tr>\n",
              "      <th>2</th>\n",
              "      <td>80.0</td>\n",
              "      <td>1.0100</td>\n",
              "      <td>2.0</td>\n",
              "      <td>0.0</td>\n",
              "      <td>1.0</td>\n",
              "      <td>53.0</td>\n",
              "      <td>1.8</td>\n",
              "      <td>137.53</td>\n",
              "      <td>4.63</td>\n",
              "      <td>9.6</td>\n",
              "      <td>7500.0</td>\n",
              "      <td>4.71</td>\n",
              "      <td>0.0</td>\n",
              "    </tr>\n",
              "    <tr>\n",
              "      <th>3</th>\n",
              "      <td>70.0</td>\n",
              "      <td>1.0075</td>\n",
              "      <td>4.0</td>\n",
              "      <td>0.0</td>\n",
              "      <td>1.0</td>\n",
              "      <td>56.0</td>\n",
              "      <td>3.8</td>\n",
              "      <td>126.00</td>\n",
              "      <td>2.80</td>\n",
              "      <td>11.2</td>\n",
              "      <td>6700.0</td>\n",
              "      <td>3.90</td>\n",
              "      <td>1.0</td>\n",
              "    </tr>\n",
              "    <tr>\n",
              "      <th>4</th>\n",
              "      <td>80.0</td>\n",
              "      <td>1.0100</td>\n",
              "      <td>2.0</td>\n",
              "      <td>0.0</td>\n",
              "      <td>1.0</td>\n",
              "      <td>26.0</td>\n",
              "      <td>1.4</td>\n",
              "      <td>137.53</td>\n",
              "      <td>4.63</td>\n",
              "      <td>11.6</td>\n",
              "      <td>7300.0</td>\n",
              "      <td>4.60</td>\n",
              "      <td>0.0</td>\n",
              "    </tr>\n",
              "    <tr>\n",
              "      <th>...</th>\n",
              "      <td>...</td>\n",
              "      <td>...</td>\n",
              "      <td>...</td>\n",
              "      <td>...</td>\n",
              "      <td>...</td>\n",
              "      <td>...</td>\n",
              "      <td>...</td>\n",
              "      <td>...</td>\n",
              "      <td>...</td>\n",
              "      <td>...</td>\n",
              "      <td>...</td>\n",
              "      <td>...</td>\n",
              "      <td>...</td>\n",
              "    </tr>\n",
              "    <tr>\n",
              "      <th>395</th>\n",
              "      <td>80.0</td>\n",
              "      <td>1.0200</td>\n",
              "      <td>0.0</td>\n",
              "      <td>0.0</td>\n",
              "      <td>1.0</td>\n",
              "      <td>49.0</td>\n",
              "      <td>0.5</td>\n",
              "      <td>150.00</td>\n",
              "      <td>4.90</td>\n",
              "      <td>15.7</td>\n",
              "      <td>6700.0</td>\n",
              "      <td>4.90</td>\n",
              "      <td>0.0</td>\n",
              "    </tr>\n",
              "    <tr>\n",
              "      <th>396</th>\n",
              "      <td>70.0</td>\n",
              "      <td>1.0250</td>\n",
              "      <td>0.0</td>\n",
              "      <td>0.0</td>\n",
              "      <td>1.0</td>\n",
              "      <td>31.0</td>\n",
              "      <td>1.2</td>\n",
              "      <td>141.00</td>\n",
              "      <td>3.50</td>\n",
              "      <td>16.5</td>\n",
              "      <td>7800.0</td>\n",
              "      <td>6.00</td>\n",
              "      <td>0.0</td>\n",
              "    </tr>\n",
              "    <tr>\n",
              "      <th>397</th>\n",
              "      <td>80.0</td>\n",
              "      <td>1.0200</td>\n",
              "      <td>0.0</td>\n",
              "      <td>0.0</td>\n",
              "      <td>1.0</td>\n",
              "      <td>26.0</td>\n",
              "      <td>0.6</td>\n",
              "      <td>137.00</td>\n",
              "      <td>4.40</td>\n",
              "      <td>15.8</td>\n",
              "      <td>6600.0</td>\n",
              "      <td>5.40</td>\n",
              "      <td>0.0</td>\n",
              "    </tr>\n",
              "    <tr>\n",
              "      <th>398</th>\n",
              "      <td>60.0</td>\n",
              "      <td>1.0250</td>\n",
              "      <td>0.0</td>\n",
              "      <td>0.0</td>\n",
              "      <td>1.0</td>\n",
              "      <td>50.0</td>\n",
              "      <td>1.0</td>\n",
              "      <td>135.00</td>\n",
              "      <td>4.90</td>\n",
              "      <td>14.2</td>\n",
              "      <td>7200.0</td>\n",
              "      <td>5.90</td>\n",
              "      <td>0.0</td>\n",
              "    </tr>\n",
              "    <tr>\n",
              "      <th>399</th>\n",
              "      <td>80.0</td>\n",
              "      <td>1.0250</td>\n",
              "      <td>0.0</td>\n",
              "      <td>0.0</td>\n",
              "      <td>1.0</td>\n",
              "      <td>18.0</td>\n",
              "      <td>1.1</td>\n",
              "      <td>141.00</td>\n",
              "      <td>3.50</td>\n",
              "      <td>15.8</td>\n",
              "      <td>6800.0</td>\n",
              "      <td>6.00</td>\n",
              "      <td>0.0</td>\n",
              "    </tr>\n",
              "  </tbody>\n",
              "</table>\n",
              "<p>400 rows × 13 columns</p>\n",
              "</div>\n",
              "      <button class=\"colab-df-convert\" onclick=\"convertToInteractive('df-50f30af4-2d34-487e-9893-2df16b720a64')\"\n",
              "              title=\"Convert this dataframe to an interactive table.\"\n",
              "              style=\"display:none;\">\n",
              "\n",
              "  <svg xmlns=\"http://www.w3.org/2000/svg\" height=\"24px\"viewBox=\"0 0 24 24\"\n",
              "       width=\"24px\">\n",
              "    <path d=\"M0 0h24v24H0V0z\" fill=\"none\"/>\n",
              "    <path d=\"M18.56 5.44l.94 2.06.94-2.06 2.06-.94-2.06-.94-.94-2.06-.94 2.06-2.06.94zm-11 1L8.5 8.5l.94-2.06 2.06-.94-2.06-.94L8.5 2.5l-.94 2.06-2.06.94zm10 10l.94 2.06.94-2.06 2.06-.94-2.06-.94-.94-2.06-.94 2.06-2.06.94z\"/><path d=\"M17.41 7.96l-1.37-1.37c-.4-.4-.92-.59-1.43-.59-.52 0-1.04.2-1.43.59L10.3 9.45l-7.72 7.72c-.78.78-.78 2.05 0 2.83L4 21.41c.39.39.9.59 1.41.59.51 0 1.02-.2 1.41-.59l7.78-7.78 2.81-2.81c.8-.78.8-2.07 0-2.86zM5.41 20L4 18.59l7.72-7.72 1.47 1.35L5.41 20z\"/>\n",
              "  </svg>\n",
              "      </button>\n",
              "\n",
              "\n",
              "\n",
              "    <div id=\"df-9d4ae31c-a551-481f-bfc8-42991f615d7e\">\n",
              "      <button class=\"colab-df-quickchart\" onclick=\"quickchart('df-9d4ae31c-a551-481f-bfc8-42991f615d7e')\"\n",
              "              title=\"Suggest charts.\"\n",
              "              style=\"display:none;\">\n",
              "\n",
              "<svg xmlns=\"http://www.w3.org/2000/svg\" height=\"24px\"viewBox=\"0 0 24 24\"\n",
              "     width=\"24px\">\n",
              "    <g>\n",
              "        <path d=\"M19 3H5c-1.1 0-2 .9-2 2v14c0 1.1.9 2 2 2h14c1.1 0 2-.9 2-2V5c0-1.1-.9-2-2-2zM9 17H7v-7h2v7zm4 0h-2V7h2v10zm4 0h-2v-4h2v4z\"/>\n",
              "    </g>\n",
              "</svg>\n",
              "      </button>\n",
              "    </div>\n",
              "\n",
              "<style>\n",
              "  .colab-df-quickchart {\n",
              "    background-color: #E8F0FE;\n",
              "    border: none;\n",
              "    border-radius: 50%;\n",
              "    cursor: pointer;\n",
              "    display: none;\n",
              "    fill: #1967D2;\n",
              "    height: 32px;\n",
              "    padding: 0 0 0 0;\n",
              "    width: 32px;\n",
              "  }\n",
              "\n",
              "  .colab-df-quickchart:hover {\n",
              "    background-color: #E2EBFA;\n",
              "    box-shadow: 0px 1px 2px rgba(60, 64, 67, 0.3), 0px 1px 3px 1px rgba(60, 64, 67, 0.15);\n",
              "    fill: #174EA6;\n",
              "  }\n",
              "\n",
              "  [theme=dark] .colab-df-quickchart {\n",
              "    background-color: #3B4455;\n",
              "    fill: #D2E3FC;\n",
              "  }\n",
              "\n",
              "  [theme=dark] .colab-df-quickchart:hover {\n",
              "    background-color: #434B5C;\n",
              "    box-shadow: 0px 1px 3px 1px rgba(0, 0, 0, 0.15);\n",
              "    filter: drop-shadow(0px 1px 2px rgba(0, 0, 0, 0.3));\n",
              "    fill: #FFFFFF;\n",
              "  }\n",
              "</style>\n",
              "\n",
              "    <script>\n",
              "      async function quickchart(key) {\n",
              "        const containerElement = document.querySelector('#' + key);\n",
              "        const charts = await google.colab.kernel.invokeFunction(\n",
              "            'suggestCharts', [key], {});\n",
              "      }\n",
              "    </script>\n",
              "\n",
              "      <script>\n",
              "\n",
              "function displayQuickchartButton(domScope) {\n",
              "  let quickchartButtonEl =\n",
              "    domScope.querySelector('#df-9d4ae31c-a551-481f-bfc8-42991f615d7e button.colab-df-quickchart');\n",
              "  quickchartButtonEl.style.display =\n",
              "    google.colab.kernel.accessAllowed ? 'block' : 'none';\n",
              "}\n",
              "\n",
              "        displayQuickchartButton(document);\n",
              "      </script>\n",
              "      <style>\n",
              "    .colab-df-container {\n",
              "      display:flex;\n",
              "      flex-wrap:wrap;\n",
              "      gap: 12px;\n",
              "    }\n",
              "\n",
              "    .colab-df-convert {\n",
              "      background-color: #E8F0FE;\n",
              "      border: none;\n",
              "      border-radius: 50%;\n",
              "      cursor: pointer;\n",
              "      display: none;\n",
              "      fill: #1967D2;\n",
              "      height: 32px;\n",
              "      padding: 0 0 0 0;\n",
              "      width: 32px;\n",
              "    }\n",
              "\n",
              "    .colab-df-convert:hover {\n",
              "      background-color: #E2EBFA;\n",
              "      box-shadow: 0px 1px 2px rgba(60, 64, 67, 0.3), 0px 1px 3px 1px rgba(60, 64, 67, 0.15);\n",
              "      fill: #174EA6;\n",
              "    }\n",
              "\n",
              "    [theme=dark] .colab-df-convert {\n",
              "      background-color: #3B4455;\n",
              "      fill: #D2E3FC;\n",
              "    }\n",
              "\n",
              "    [theme=dark] .colab-df-convert:hover {\n",
              "      background-color: #434B5C;\n",
              "      box-shadow: 0px 1px 3px 1px rgba(0, 0, 0, 0.15);\n",
              "      filter: drop-shadow(0px 1px 2px rgba(0, 0, 0, 0.3));\n",
              "      fill: #FFFFFF;\n",
              "    }\n",
              "  </style>\n",
              "\n",
              "      <script>\n",
              "        const buttonEl =\n",
              "          document.querySelector('#df-50f30af4-2d34-487e-9893-2df16b720a64 button.colab-df-convert');\n",
              "        buttonEl.style.display =\n",
              "          google.colab.kernel.accessAllowed ? 'block' : 'none';\n",
              "\n",
              "        async function convertToInteractive(key) {\n",
              "          const element = document.querySelector('#df-50f30af4-2d34-487e-9893-2df16b720a64');\n",
              "          const dataTable =\n",
              "            await google.colab.kernel.invokeFunction('convertToInteractive',\n",
              "                                                     [key], {});\n",
              "          if (!dataTable) return;\n",
              "\n",
              "          const docLinkHtml = 'Like what you see? Visit the ' +\n",
              "            '<a target=\"_blank\" href=https://colab.research.google.com/notebooks/data_table.ipynb>data table notebook</a>'\n",
              "            + ' to learn more about interactive tables.';\n",
              "          element.innerHTML = '';\n",
              "          dataTable['output_type'] = 'display_data';\n",
              "          await google.colab.output.renderOutput(dataTable, element);\n",
              "          const docLink = document.createElement('div');\n",
              "          docLink.innerHTML = docLinkHtml;\n",
              "          element.appendChild(docLink);\n",
              "        }\n",
              "      </script>\n",
              "    </div>\n",
              "  </div>\n"
            ]
          },
          "metadata": {},
          "execution_count": 29
        }
      ]
    },
    {
      "cell_type": "code",
      "source": [
        "y"
      ],
      "metadata": {
        "colab": {
          "base_uri": "https://localhost:8080/",
          "height": 0
        },
        "id": "SnGPzbGPQf9Y",
        "outputId": "c2e0563a-2552-44d7-ac9f-fc720d60dffe"
      },
      "execution_count": 30,
      "outputs": [
        {
          "output_type": "execute_result",
          "data": {
            "text/plain": [
              "0      1.0\n",
              "1      1.0\n",
              "2      1.0\n",
              "3      1.0\n",
              "4      1.0\n",
              "      ... \n",
              "395    0.0\n",
              "396    0.0\n",
              "397    0.0\n",
              "398    0.0\n",
              "399    0.0\n",
              "Name: Class, Length: 400, dtype: float64"
            ]
          },
          "metadata": {},
          "execution_count": 30
        }
      ]
    },
    {
      "cell_type": "code",
      "source": [
        "# Initially using train test split\n",
        "\n",
        "X_train,X_test,y_train,y_test = train_test_split(X,y,test_size=0.25,stratify = y, random_state=2)"
      ],
      "metadata": {
        "id": "369wwX3aQhIQ"
      },
      "execution_count": 31,
      "outputs": []
    },
    {
      "cell_type": "code",
      "source": [
        "models = [LogisticRegression(max_iter=700),SVC(kernel='linear'),KNeighborsClassifier(),RandomForestClassifier(),DecisionTreeClassifier()]"
      ],
      "metadata": {
        "id": "r0PpzU8mQnsx"
      },
      "execution_count": 32,
      "outputs": []
    },
    {
      "cell_type": "code",
      "source": [
        "best_model = None\n",
        "best_score = 0.0\n",
        "\n",
        "for model in models:\n",
        "  model.fit(X_train,y_train)\n",
        "  predict_data = model.predict(X_test)\n",
        "\n",
        "  accuracy_level = accuracy_score(y_test,predict_data)\n",
        "  if accuracy_level > best_score:\n",
        "    best_model = model\n",
        "    best_score = accuracy_level\n",
        "\n",
        "  print(f\"Model used for classification is --> {model} & the accuracy score is --> {round(accuracy_level*100,2)}%\")\n",
        "  print(\"------------------------\")\n",
        "\n",
        "# Finalising the perfect model\n",
        "\n",
        "print()\n",
        "print(f\"Model with the highest score --> {best_model}\")\n",
        "print(f\"Highest score --> {round(best_score*100,2)}%\")"
      ],
      "metadata": {
        "colab": {
          "base_uri": "https://localhost:8080/",
          "height": 0
        },
        "id": "XPblVCcgRO0m",
        "outputId": "8a6d939e-f5e7-4336-b56b-4879ff8df4c8"
      },
      "execution_count": 33,
      "outputs": [
        {
          "output_type": "stream",
          "name": "stdout",
          "text": [
            "Model used for classification is --> LogisticRegression(max_iter=700) & the accuracy score is --> 94.0%\n",
            "------------------------\n",
            "Model used for classification is --> SVC(kernel='linear') & the accuracy score is --> 90.0%\n",
            "------------------------\n",
            "Model used for classification is --> KNeighborsClassifier() & the accuracy score is --> 68.0%\n",
            "------------------------\n",
            "Model used for classification is --> RandomForestClassifier() & the accuracy score is --> 98.0%\n",
            "------------------------\n",
            "Model used for classification is --> DecisionTreeClassifier() & the accuracy score is --> 97.0%\n",
            "------------------------\n",
            "\n",
            "Model with the highest score --> RandomForestClassifier()\n",
            "Highest score --> 98.0%\n"
          ]
        }
      ]
    },
    {
      "cell_type": "markdown",
      "source": [
        "## Creating Cross Validation Scoring Models"
      ],
      "metadata": {
        "id": "2XK556OtuScL"
      }
    },
    {
      "cell_type": "code",
      "source": [
        "models_cv = [LogisticRegression(max_iter=700),SVC(kernel='linear'),KNeighborsClassifier(),RandomForestClassifier(),DecisionTreeClassifier()]"
      ],
      "metadata": {
        "id": "eGl_jkolV7Ff"
      },
      "execution_count": 34,
      "outputs": []
    },
    {
      "cell_type": "code",
      "source": [
        "best_model_cv = None\n",
        "best_score_cv = 0.0\n",
        "\n",
        "for model in models_cv:\n",
        "  cv_score_models = cross_val_score(model,X,y,cv=5)\n",
        "  cv_mean_score = sum(cv_score_models)/len(cv_score_models)\n",
        "\n",
        "  if cv_mean_score > best_score_cv:\n",
        "    best_model_cv = model\n",
        "    best_score_cv = cv_mean_score\n",
        "\n",
        "  print(f\"Model used : {model} & Cross Validation Scores : {cv_score_models}\")\n",
        "  print(f\"Model used : {model} & Mean CV Score : {round(cv_mean_score,2)*100}%\")\n",
        "  print(\" \")\n",
        "  print('***********************************************************')\n",
        "\n",
        "# Finalising the perfect model\n",
        "\n",
        "print()\n",
        "print(f\"Model with the highest score --> {best_model_cv}\")\n",
        "print(f\"Highest Mean CV score --> {round(best_score_cv*100,2)}%\")\n"
      ],
      "metadata": {
        "colab": {
          "base_uri": "https://localhost:8080/",
          "height": 0
        },
        "id": "9ayAxKXkua0M",
        "outputId": "1006591d-0aae-4f1f-9326-721b24cd2a36"
      },
      "execution_count": 35,
      "outputs": [
        {
          "output_type": "stream",
          "name": "stdout",
          "text": [
            "Model used : LogisticRegression(max_iter=700) & Cross Validation Scores : [0.9625 0.9625 0.925  0.9625 0.9875]\n",
            "Model used : LogisticRegression(max_iter=700) & Mean CV Score : 96.0%\n",
            " \n",
            "***********************************************************\n",
            "Model used : SVC(kernel='linear') & Cross Validation Scores : [0.9375 0.9625 0.9375 0.975  0.975 ]\n",
            "Model used : SVC(kernel='linear') & Mean CV Score : 96.0%\n",
            " \n",
            "***********************************************************\n",
            "Model used : KNeighborsClassifier() & Cross Validation Scores : [0.6875 0.7    0.725  0.75   0.7125]\n",
            "Model used : KNeighborsClassifier() & Mean CV Score : 72.0%\n",
            " \n",
            "***********************************************************\n",
            "Model used : RandomForestClassifier() & Cross Validation Scores : [0.9875 1.     0.95   0.975  1.    ]\n",
            "Model used : RandomForestClassifier() & Mean CV Score : 98.0%\n",
            " \n",
            "***********************************************************\n",
            "Model used : DecisionTreeClassifier() & Cross Validation Scores : [0.9625 0.975  0.95   0.975  0.9875]\n",
            "Model used : DecisionTreeClassifier() & Mean CV Score : 97.0%\n",
            " \n",
            "***********************************************************\n",
            "\n",
            "Model with the highest score --> RandomForestClassifier()\n",
            "Highest Mean CV score --> 98.25%\n"
          ]
        }
      ]
    },
    {
      "cell_type": "markdown",
      "source": [
        "## Hyper-parameter tuning for all the models for core accuracy\n",
        "\n",
        "Table Source : ChatGPT\n",
        "\n",
        "| Algorithm | Hyperparameters | Syntax | Description |\n",
        "|---|---|---|---|\n",
        "| Logistic Regression | *C* (regularization strength) | `C=float` | Controls the trade-off between model complexity and accuracy. |\n",
        "| Support Vector Machines (SVM) | *Kernel* (type of kernel function) | `kernel='linear'` or `kernel='poly'` or `kernel='rbf'` or `kernel='sigmoid'` | Specifies the similarity measure between data points. |\n",
        "| *C* (regularization strength) | `C=float` | Controls the trade-off between model complexity and accuracy. |\n",
        "| *Gamma* (kernel coefficient) | `gamma=float` | Controls the width of the decision boundary. |\n",
        "| K-Nearest Neighbors (KNN) | *K* (number of neighbors) | `n_neighbors=int` | Specifies the number of neighbors to consider when making a prediction. |\n",
        "| *Weights* (weights for each neighbor) | `weights='uniform'` or `weights='distance'` | Specifies how much weight to give to each neighbor when making a prediction. |\n",
        "| *Metric* (distance metric) | `metric='euclidean'` or `metric='manhattan'` or `metric='minkowski'` | Specifies the distance metric to use when measuring the similarity between data points. |\n",
        "| Decision Trees | *Max depth* | `max_depth=int` | Specifies the maximum depth of the decision tree. |\n",
        "| *Min samples split* | `min_samples_split=int` | Specifies the minimum number of samples required to split a node. |\n",
        "| *Min samples leaf* | `min_samples_leaf=int` | Specifies the minimum number of samples required to be a leaf node. |\n",
        "| Random Forest | *Number of trees* | `n_estimators=int` | Specifies the number of trees to build in the forest. |\n",
        "| *Max depth* | `max_depth=int` | Specifies the maximum depth of each tree in the forest. |\n",
        "| *Min samples split* | `min_samples_split=int` | Specifies the minimum number of samples required to split a node in each tree. |\n",
        "| *Min samples leaf* | `min_samples_leaf=int` | Specifies the minimum number of samples required to be a leaf node in each tree. |\n",
        "| Gradient Boosting | *Number of estimators* | `n_estimators=int` | Specifies the number of trees to build in the ensemble. |\n",
        "| *Learning rate* | `learning_rate=float` | Specifies the step size when updating the model parameters. |\n",
        "| *Loss function* | `loss='least_squares'` or `loss='cross_entropy'` | Specifies the loss function to use when training the model. |\n"
      ],
      "metadata": {
        "id": "CWxjFoluwLWh"
      }
    },
    {
      "cell_type": "code",
      "source": [
        "# Defining a dictionary which contains hyper-parameters for all models\n",
        "\n",
        "model_hyperparams = {\n",
        "    'log_reg_params' : {\n",
        "        'C' : [1,5,10,25,30,35]\n",
        "    },\n",
        "\n",
        "    'svc_params' : {\n",
        "        'kernel' : ['linear','rbf','poly','sigmoid'],\n",
        "        'C' : [1,5,10,25,30,35]\n",
        "    },\n",
        "\n",
        "    'kn_clf_params' : {\n",
        "        'n_neighbors' : [3,5,10,20,25,30]\n",
        "    },\n",
        "\n",
        "    'rnf_params' : {\n",
        "        'n_estimators' : [10, 20, 50, 100,250,500]\n",
        "    },\n",
        "\n",
        "    'dt_clf_params' : {\n",
        "        'max_depth' : [10,35,40,50,60,75],\n",
        "        'random_state' : [0,5,10,15,20,25]\n",
        "    }\n",
        "}"
      ],
      "metadata": {
        "id": "ldKcSMYsvqTc"
      },
      "execution_count": 36,
      "outputs": []
    },
    {
      "cell_type": "code",
      "source": [
        "# Initialising the hyperparameters for multiple model training\n",
        "\n",
        "hyper_params_list = list(model_hyperparams.keys())\n",
        "hyper_params_list"
      ],
      "metadata": {
        "colab": {
          "base_uri": "https://localhost:8080/",
          "height": 0
        },
        "id": "iVAYVWxO1p2y",
        "outputId": "e28fe0df-014b-40dc-a09b-ef9b2705f8f5"
      },
      "execution_count": 37,
      "outputs": [
        {
          "output_type": "execute_result",
          "data": {
            "text/plain": [
              "['log_reg_params',\n",
              " 'svc_params',\n",
              " 'kn_clf_params',\n",
              " 'rnf_params',\n",
              " 'dt_clf_params']"
            ]
          },
          "metadata": {},
          "execution_count": 37
        }
      ]
    },
    {
      "cell_type": "code",
      "source": [
        "models_hyp = [LogisticRegression(max_iter=700),SVC(),KNeighborsClassifier(),RandomForestClassifier(),DecisionTreeClassifier()]"
      ],
      "metadata": {
        "id": "UpO01lcG4nib"
      },
      "execution_count": 38,
      "outputs": []
    },
    {
      "cell_type": "code",
      "source": [
        "# Scaling the X data for avoiding warnings in hyper_parameter tuning\n",
        "\n",
        "from sklearn.preprocessing import StandardScaler\n",
        "scaler = StandardScaler()\n",
        "\n",
        "X_scaled = scaler.fit_transform(X)"
      ],
      "metadata": {
        "id": "Fsebn7un56O4"
      },
      "execution_count": 39,
      "outputs": []
    },
    {
      "cell_type": "code",
      "source": [
        "X_scaled"
      ],
      "metadata": {
        "colab": {
          "base_uri": "https://localhost:8080/",
          "height": 0
        },
        "id": "TYQWrt2Vxljo",
        "outputId": "676172d3-a20e-4c3f-85ac-98a1a312f91c"
      },
      "execution_count": 40,
      "outputs": [
        {
          "output_type": "execute_result",
          "data": {
            "text/plain": [
              "array([[ 0.39284326,  0.42066234, -0.01180416, ..., -0.23515257,\n",
              "         0.68209608,  1.30997921],\n",
              "       [-1.89378804,  0.42066234,  2.34902872, ..., -1.12310948,\n",
              "        -0.04491916, -0.76720974],\n",
              "       [ 0.39284326, -1.45415587,  0.77514013, ..., -0.38314539,\n",
              "        -0.04491916, -0.76720974],\n",
              "       ...,\n",
              "       [ 0.39284326,  0.42066234, -0.79874846, ..., -0.82712384,\n",
              "         0.97883699, -0.76720974],\n",
              "       [-1.43646178,  1.35807144, -0.79874846, ..., -0.53113821,\n",
              "         1.72068926, -0.76720974],\n",
              "       [ 0.39284326,  1.35807144, -0.79874846, ..., -0.72846196,\n",
              "         1.86905972, -0.76720974]])"
            ]
          },
          "metadata": {},
          "execution_count": 40
        }
      ]
    },
    {
      "cell_type": "markdown",
      "source": [
        "## Grid Search CV"
      ],
      "metadata": {
        "id": "OuvBKnLx7aac"
      }
    },
    {
      "cell_type": "code",
      "source": [
        "algo_results = []\n",
        "\n",
        "i = 0   # i initialised to 0 to iterate over the model list to access hyper parameters\n",
        "\n",
        "for model in models_hyp:\n",
        "  active_model = hyper_params_list[i]   # Setting the model with accordance to model list\n",
        "  parameters_active = model_hyperparams[active_model]  # activating the respective hyperparameters for the model\n",
        "\n",
        "  i+=1  # next model\n",
        "\n",
        "  print(f\"Model Used : {model}\")\n",
        "  print(f\"Hyper-parameters used : {parameters_active}\")\n",
        "\n",
        "  # Training the models\n",
        "\n",
        "  grid_search_clf = GridSearchCV(model,parameters_active,cv=6)\n",
        "  grid_search_clf.fit(X_scaled,y)\n",
        "\n",
        "  # Saving the results\n",
        "\n",
        "  algo_results.append({\n",
        "      'Model' : model,\n",
        "      'Highest Score' : grid_search_clf.best_score_ ,\n",
        "      'Best Parameters' : grid_search_clf.best_params_\n",
        "  })\n",
        "\n",
        "  # Converting to dataframe\n",
        "\n",
        "  final_results = pd.DataFrame(algo_results)"
      ],
      "metadata": {
        "colab": {
          "base_uri": "https://localhost:8080/",
          "height": 0
        },
        "id": "5IUP_yUE1717",
        "outputId": "c94fa6b9-a465-4016-a45c-79f75ae139ad"
      },
      "execution_count": 41,
      "outputs": [
        {
          "output_type": "stream",
          "name": "stdout",
          "text": [
            "Model Used : LogisticRegression(max_iter=700)\n",
            "Hyper-parameters used : {'C': [1, 5, 10, 25, 30, 35]}\n",
            "Model Used : SVC()\n",
            "Hyper-parameters used : {'kernel': ['linear', 'rbf', 'poly', 'sigmoid'], 'C': [1, 5, 10, 25, 30, 35]}\n",
            "Model Used : KNeighborsClassifier()\n",
            "Hyper-parameters used : {'n_neighbors': [3, 5, 10, 20, 25, 30]}\n",
            "Model Used : RandomForestClassifier()\n",
            "Hyper-parameters used : {'n_estimators': [10, 20, 50, 100, 250, 500]}\n",
            "Model Used : DecisionTreeClassifier()\n",
            "Hyper-parameters used : {'max_depth': [10, 35, 40, 50, 60, 75], 'random_state': [0, 5, 10, 15, 20, 25]}\n"
          ]
        }
      ]
    },
    {
      "cell_type": "code",
      "source": [
        "final_results  # see results"
      ],
      "metadata": {
        "colab": {
          "base_uri": "https://localhost:8080/",
          "height": 206
        },
        "id": "6lFok4UA8h4r",
        "outputId": "baf93b6e-26fc-4812-c396-5214e905f341"
      },
      "execution_count": 42,
      "outputs": [
        {
          "output_type": "execute_result",
          "data": {
            "text/plain": [
              "                              Model  Highest Score  \\\n",
              "0  LogisticRegression(max_iter=700)       0.982549   \n",
              "1                             SVC()       0.982512   \n",
              "2            KNeighborsClassifier()       0.975011   \n",
              "3          RandomForestClassifier()       0.992462   \n",
              "4          DecisionTreeClassifier()       0.972599   \n",
              "\n",
              "                        Best Parameters  \n",
              "0                              {'C': 5}  \n",
              "1            {'C': 10, 'kernel': 'rbf'}  \n",
              "2                   {'n_neighbors': 10}  \n",
              "3                  {'n_estimators': 10}  \n",
              "4  {'max_depth': 10, 'random_state': 5}  "
            ],
            "text/html": [
              "\n",
              "\n",
              "  <div id=\"df-ec6dfa6c-cd48-48f1-8d86-d06d8cd9cd8e\">\n",
              "    <div class=\"colab-df-container\">\n",
              "      <div>\n",
              "<style scoped>\n",
              "    .dataframe tbody tr th:only-of-type {\n",
              "        vertical-align: middle;\n",
              "    }\n",
              "\n",
              "    .dataframe tbody tr th {\n",
              "        vertical-align: top;\n",
              "    }\n",
              "\n",
              "    .dataframe thead th {\n",
              "        text-align: right;\n",
              "    }\n",
              "</style>\n",
              "<table border=\"1\" class=\"dataframe\">\n",
              "  <thead>\n",
              "    <tr style=\"text-align: right;\">\n",
              "      <th></th>\n",
              "      <th>Model</th>\n",
              "      <th>Highest Score</th>\n",
              "      <th>Best Parameters</th>\n",
              "    </tr>\n",
              "  </thead>\n",
              "  <tbody>\n",
              "    <tr>\n",
              "      <th>0</th>\n",
              "      <td>LogisticRegression(max_iter=700)</td>\n",
              "      <td>0.982549</td>\n",
              "      <td>{'C': 5}</td>\n",
              "    </tr>\n",
              "    <tr>\n",
              "      <th>1</th>\n",
              "      <td>SVC()</td>\n",
              "      <td>0.982512</td>\n",
              "      <td>{'C': 10, 'kernel': 'rbf'}</td>\n",
              "    </tr>\n",
              "    <tr>\n",
              "      <th>2</th>\n",
              "      <td>KNeighborsClassifier()</td>\n",
              "      <td>0.975011</td>\n",
              "      <td>{'n_neighbors': 10}</td>\n",
              "    </tr>\n",
              "    <tr>\n",
              "      <th>3</th>\n",
              "      <td>RandomForestClassifier()</td>\n",
              "      <td>0.992462</td>\n",
              "      <td>{'n_estimators': 10}</td>\n",
              "    </tr>\n",
              "    <tr>\n",
              "      <th>4</th>\n",
              "      <td>DecisionTreeClassifier()</td>\n",
              "      <td>0.972599</td>\n",
              "      <td>{'max_depth': 10, 'random_state': 5}</td>\n",
              "    </tr>\n",
              "  </tbody>\n",
              "</table>\n",
              "</div>\n",
              "      <button class=\"colab-df-convert\" onclick=\"convertToInteractive('df-ec6dfa6c-cd48-48f1-8d86-d06d8cd9cd8e')\"\n",
              "              title=\"Convert this dataframe to an interactive table.\"\n",
              "              style=\"display:none;\">\n",
              "\n",
              "  <svg xmlns=\"http://www.w3.org/2000/svg\" height=\"24px\"viewBox=\"0 0 24 24\"\n",
              "       width=\"24px\">\n",
              "    <path d=\"M0 0h24v24H0V0z\" fill=\"none\"/>\n",
              "    <path d=\"M18.56 5.44l.94 2.06.94-2.06 2.06-.94-2.06-.94-.94-2.06-.94 2.06-2.06.94zm-11 1L8.5 8.5l.94-2.06 2.06-.94-2.06-.94L8.5 2.5l-.94 2.06-2.06.94zm10 10l.94 2.06.94-2.06 2.06-.94-2.06-.94-.94-2.06-.94 2.06-2.06.94z\"/><path d=\"M17.41 7.96l-1.37-1.37c-.4-.4-.92-.59-1.43-.59-.52 0-1.04.2-1.43.59L10.3 9.45l-7.72 7.72c-.78.78-.78 2.05 0 2.83L4 21.41c.39.39.9.59 1.41.59.51 0 1.02-.2 1.41-.59l7.78-7.78 2.81-2.81c.8-.78.8-2.07 0-2.86zM5.41 20L4 18.59l7.72-7.72 1.47 1.35L5.41 20z\"/>\n",
              "  </svg>\n",
              "      </button>\n",
              "\n",
              "\n",
              "\n",
              "    <div id=\"df-171e021c-e128-4f06-b2a4-5c94d000e80d\">\n",
              "      <button class=\"colab-df-quickchart\" onclick=\"quickchart('df-171e021c-e128-4f06-b2a4-5c94d000e80d')\"\n",
              "              title=\"Suggest charts.\"\n",
              "              style=\"display:none;\">\n",
              "\n",
              "<svg xmlns=\"http://www.w3.org/2000/svg\" height=\"24px\"viewBox=\"0 0 24 24\"\n",
              "     width=\"24px\">\n",
              "    <g>\n",
              "        <path d=\"M19 3H5c-1.1 0-2 .9-2 2v14c0 1.1.9 2 2 2h14c1.1 0 2-.9 2-2V5c0-1.1-.9-2-2-2zM9 17H7v-7h2v7zm4 0h-2V7h2v10zm4 0h-2v-4h2v4z\"/>\n",
              "    </g>\n",
              "</svg>\n",
              "      </button>\n",
              "    </div>\n",
              "\n",
              "<style>\n",
              "  .colab-df-quickchart {\n",
              "    background-color: #E8F0FE;\n",
              "    border: none;\n",
              "    border-radius: 50%;\n",
              "    cursor: pointer;\n",
              "    display: none;\n",
              "    fill: #1967D2;\n",
              "    height: 32px;\n",
              "    padding: 0 0 0 0;\n",
              "    width: 32px;\n",
              "  }\n",
              "\n",
              "  .colab-df-quickchart:hover {\n",
              "    background-color: #E2EBFA;\n",
              "    box-shadow: 0px 1px 2px rgba(60, 64, 67, 0.3), 0px 1px 3px 1px rgba(60, 64, 67, 0.15);\n",
              "    fill: #174EA6;\n",
              "  }\n",
              "\n",
              "  [theme=dark] .colab-df-quickchart {\n",
              "    background-color: #3B4455;\n",
              "    fill: #D2E3FC;\n",
              "  }\n",
              "\n",
              "  [theme=dark] .colab-df-quickchart:hover {\n",
              "    background-color: #434B5C;\n",
              "    box-shadow: 0px 1px 3px 1px rgba(0, 0, 0, 0.15);\n",
              "    filter: drop-shadow(0px 1px 2px rgba(0, 0, 0, 0.3));\n",
              "    fill: #FFFFFF;\n",
              "  }\n",
              "</style>\n",
              "\n",
              "    <script>\n",
              "      async function quickchart(key) {\n",
              "        const containerElement = document.querySelector('#' + key);\n",
              "        const charts = await google.colab.kernel.invokeFunction(\n",
              "            'suggestCharts', [key], {});\n",
              "      }\n",
              "    </script>\n",
              "\n",
              "      <script>\n",
              "\n",
              "function displayQuickchartButton(domScope) {\n",
              "  let quickchartButtonEl =\n",
              "    domScope.querySelector('#df-171e021c-e128-4f06-b2a4-5c94d000e80d button.colab-df-quickchart');\n",
              "  quickchartButtonEl.style.display =\n",
              "    google.colab.kernel.accessAllowed ? 'block' : 'none';\n",
              "}\n",
              "\n",
              "        displayQuickchartButton(document);\n",
              "      </script>\n",
              "      <style>\n",
              "    .colab-df-container {\n",
              "      display:flex;\n",
              "      flex-wrap:wrap;\n",
              "      gap: 12px;\n",
              "    }\n",
              "\n",
              "    .colab-df-convert {\n",
              "      background-color: #E8F0FE;\n",
              "      border: none;\n",
              "      border-radius: 50%;\n",
              "      cursor: pointer;\n",
              "      display: none;\n",
              "      fill: #1967D2;\n",
              "      height: 32px;\n",
              "      padding: 0 0 0 0;\n",
              "      width: 32px;\n",
              "    }\n",
              "\n",
              "    .colab-df-convert:hover {\n",
              "      background-color: #E2EBFA;\n",
              "      box-shadow: 0px 1px 2px rgba(60, 64, 67, 0.3), 0px 1px 3px 1px rgba(60, 64, 67, 0.15);\n",
              "      fill: #174EA6;\n",
              "    }\n",
              "\n",
              "    [theme=dark] .colab-df-convert {\n",
              "      background-color: #3B4455;\n",
              "      fill: #D2E3FC;\n",
              "    }\n",
              "\n",
              "    [theme=dark] .colab-df-convert:hover {\n",
              "      background-color: #434B5C;\n",
              "      box-shadow: 0px 1px 3px 1px rgba(0, 0, 0, 0.15);\n",
              "      filter: drop-shadow(0px 1px 2px rgba(0, 0, 0, 0.3));\n",
              "      fill: #FFFFFF;\n",
              "    }\n",
              "  </style>\n",
              "\n",
              "      <script>\n",
              "        const buttonEl =\n",
              "          document.querySelector('#df-ec6dfa6c-cd48-48f1-8d86-d06d8cd9cd8e button.colab-df-convert');\n",
              "        buttonEl.style.display =\n",
              "          google.colab.kernel.accessAllowed ? 'block' : 'none';\n",
              "\n",
              "        async function convertToInteractive(key) {\n",
              "          const element = document.querySelector('#df-ec6dfa6c-cd48-48f1-8d86-d06d8cd9cd8e');\n",
              "          const dataTable =\n",
              "            await google.colab.kernel.invokeFunction('convertToInteractive',\n",
              "                                                     [key], {});\n",
              "          if (!dataTable) return;\n",
              "\n",
              "          const docLinkHtml = 'Like what you see? Visit the ' +\n",
              "            '<a target=\"_blank\" href=https://colab.research.google.com/notebooks/data_table.ipynb>data table notebook</a>'\n",
              "            + ' to learn more about interactive tables.';\n",
              "          element.innerHTML = '';\n",
              "          dataTable['output_type'] = 'display_data';\n",
              "          await google.colab.output.renderOutput(dataTable, element);\n",
              "          const docLink = document.createElement('div');\n",
              "          docLink.innerHTML = docLinkHtml;\n",
              "          element.appendChild(docLink);\n",
              "        }\n",
              "      </script>\n",
              "    </div>\n",
              "  </div>\n"
            ]
          },
          "metadata": {},
          "execution_count": 42
        }
      ]
    },
    {
      "cell_type": "code",
      "source": [
        "final_results.to_csv('Grid_SearchCV.csv')  # Get results"
      ],
      "metadata": {
        "id": "9kMG5D8v4Rn1"
      },
      "execution_count": 43,
      "outputs": []
    },
    {
      "cell_type": "markdown",
      "source": [
        "## Randomised Search CV"
      ],
      "metadata": {
        "id": "Fzonom-77n8V"
      }
    },
    {
      "cell_type": "code",
      "source": [
        "algo_results_ran = []\n",
        "\n",
        "i = 0   # i initialised to 0 to iterate over the model list to access hyper parameters\n",
        "\n",
        "for model in models_cv:\n",
        "  active_model = hyper_params_list[i]   # Setting the model with accordance to model list\n",
        "  parameters_active = model_hyperparams[active_model]  # activating the respective hyperparameters for the model\n",
        "\n",
        "  i=i+1  # next model\n",
        "\n",
        "  print(f\"Model Used : {model}\")\n",
        "  print(f\"Hyper-parameters used : {parameters_active}\")\n",
        "\n",
        "  # Training the models\n",
        "\n",
        "  random_search_cv = RandomizedSearchCV(model,parameters_active,cv=5)\n",
        "  random_search_cv.fit(X_scaled,y)\n",
        "\n",
        "  # Saving the results\n",
        "\n",
        "  algo_results_ran.append({\n",
        "      'Model' : model,\n",
        "      'Highest Score' : random_search_cv.best_score_,\n",
        "      'Best Parameters' : random_search_cv.best_params_\n",
        "  })\n",
        "\n",
        "  # Converting to dataframe\n",
        "\n",
        "  final_results_ran = pd.DataFrame(algo_results_ran)"
      ],
      "metadata": {
        "colab": {
          "base_uri": "https://localhost:8080/",
          "height": 0
        },
        "id": "IT-8mhLI7mC2",
        "outputId": "743199f8-f9cf-4661-848c-eed7ac6271c6"
      },
      "execution_count": 44,
      "outputs": [
        {
          "output_type": "stream",
          "name": "stdout",
          "text": [
            "Model Used : LogisticRegression(max_iter=700)\n",
            "Hyper-parameters used : {'C': [1, 5, 10, 25, 30, 35]}\n"
          ]
        },
        {
          "output_type": "stream",
          "name": "stderr",
          "text": [
            "/usr/local/lib/python3.10/dist-packages/sklearn/model_selection/_search.py:305: UserWarning: The total space of parameters 6 is smaller than n_iter=10. Running 6 iterations. For exhaustive searches, use GridSearchCV.\n",
            "  warnings.warn(\n"
          ]
        },
        {
          "output_type": "stream",
          "name": "stdout",
          "text": [
            "Model Used : SVC(kernel='linear')\n",
            "Hyper-parameters used : {'kernel': ['linear', 'rbf', 'poly', 'sigmoid'], 'C': [1, 5, 10, 25, 30, 35]}\n",
            "Model Used : KNeighborsClassifier()\n",
            "Hyper-parameters used : {'n_neighbors': [3, 5, 10, 20, 25, 30]}\n",
            "Model Used : RandomForestClassifier()\n",
            "Hyper-parameters used : {'n_estimators': [10, 20, 50, 100, 250, 500]}\n"
          ]
        },
        {
          "output_type": "stream",
          "name": "stderr",
          "text": [
            "/usr/local/lib/python3.10/dist-packages/sklearn/model_selection/_search.py:305: UserWarning: The total space of parameters 6 is smaller than n_iter=10. Running 6 iterations. For exhaustive searches, use GridSearchCV.\n",
            "  warnings.warn(\n",
            "/usr/local/lib/python3.10/dist-packages/sklearn/model_selection/_search.py:305: UserWarning: The total space of parameters 6 is smaller than n_iter=10. Running 6 iterations. For exhaustive searches, use GridSearchCV.\n",
            "  warnings.warn(\n"
          ]
        },
        {
          "output_type": "stream",
          "name": "stdout",
          "text": [
            "Model Used : DecisionTreeClassifier()\n",
            "Hyper-parameters used : {'max_depth': [10, 35, 40, 50, 60, 75], 'random_state': [0, 5, 10, 15, 20, 25]}\n"
          ]
        }
      ]
    },
    {
      "cell_type": "code",
      "source": [
        "final_results_ran"
      ],
      "metadata": {
        "id": "Du247paV8cys",
        "colab": {
          "base_uri": "https://localhost:8080/",
          "height": 206
        },
        "outputId": "2db79df5-ae92-4d11-a7ed-ad0c78e84c11"
      },
      "execution_count": 45,
      "outputs": [
        {
          "output_type": "execute_result",
          "data": {
            "text/plain": [
              "                              Model  Highest Score  \\\n",
              "0  LogisticRegression(max_iter=700)         0.9825   \n",
              "1              SVC(kernel='linear')         0.9800   \n",
              "2            KNeighborsClassifier()         0.9725   \n",
              "3          RandomForestClassifier()         0.9900   \n",
              "4          DecisionTreeClassifier()         0.9775   \n",
              "\n",
              "                        Best Parameters  \n",
              "0                              {'C': 5}  \n",
              "1          {'kernel': 'linear', 'C': 1}  \n",
              "2                   {'n_neighbors': 10}  \n",
              "3                 {'n_estimators': 250}  \n",
              "4  {'random_state': 5, 'max_depth': 75}  "
            ],
            "text/html": [
              "\n",
              "\n",
              "  <div id=\"df-c1665fda-0f8c-491c-b4fb-b1072f22d1c0\">\n",
              "    <div class=\"colab-df-container\">\n",
              "      <div>\n",
              "<style scoped>\n",
              "    .dataframe tbody tr th:only-of-type {\n",
              "        vertical-align: middle;\n",
              "    }\n",
              "\n",
              "    .dataframe tbody tr th {\n",
              "        vertical-align: top;\n",
              "    }\n",
              "\n",
              "    .dataframe thead th {\n",
              "        text-align: right;\n",
              "    }\n",
              "</style>\n",
              "<table border=\"1\" class=\"dataframe\">\n",
              "  <thead>\n",
              "    <tr style=\"text-align: right;\">\n",
              "      <th></th>\n",
              "      <th>Model</th>\n",
              "      <th>Highest Score</th>\n",
              "      <th>Best Parameters</th>\n",
              "    </tr>\n",
              "  </thead>\n",
              "  <tbody>\n",
              "    <tr>\n",
              "      <th>0</th>\n",
              "      <td>LogisticRegression(max_iter=700)</td>\n",
              "      <td>0.9825</td>\n",
              "      <td>{'C': 5}</td>\n",
              "    </tr>\n",
              "    <tr>\n",
              "      <th>1</th>\n",
              "      <td>SVC(kernel='linear')</td>\n",
              "      <td>0.9800</td>\n",
              "      <td>{'kernel': 'linear', 'C': 1}</td>\n",
              "    </tr>\n",
              "    <tr>\n",
              "      <th>2</th>\n",
              "      <td>KNeighborsClassifier()</td>\n",
              "      <td>0.9725</td>\n",
              "      <td>{'n_neighbors': 10}</td>\n",
              "    </tr>\n",
              "    <tr>\n",
              "      <th>3</th>\n",
              "      <td>RandomForestClassifier()</td>\n",
              "      <td>0.9900</td>\n",
              "      <td>{'n_estimators': 250}</td>\n",
              "    </tr>\n",
              "    <tr>\n",
              "      <th>4</th>\n",
              "      <td>DecisionTreeClassifier()</td>\n",
              "      <td>0.9775</td>\n",
              "      <td>{'random_state': 5, 'max_depth': 75}</td>\n",
              "    </tr>\n",
              "  </tbody>\n",
              "</table>\n",
              "</div>\n",
              "      <button class=\"colab-df-convert\" onclick=\"convertToInteractive('df-c1665fda-0f8c-491c-b4fb-b1072f22d1c0')\"\n",
              "              title=\"Convert this dataframe to an interactive table.\"\n",
              "              style=\"display:none;\">\n",
              "\n",
              "  <svg xmlns=\"http://www.w3.org/2000/svg\" height=\"24px\"viewBox=\"0 0 24 24\"\n",
              "       width=\"24px\">\n",
              "    <path d=\"M0 0h24v24H0V0z\" fill=\"none\"/>\n",
              "    <path d=\"M18.56 5.44l.94 2.06.94-2.06 2.06-.94-2.06-.94-.94-2.06-.94 2.06-2.06.94zm-11 1L8.5 8.5l.94-2.06 2.06-.94-2.06-.94L8.5 2.5l-.94 2.06-2.06.94zm10 10l.94 2.06.94-2.06 2.06-.94-2.06-.94-.94-2.06-.94 2.06-2.06.94z\"/><path d=\"M17.41 7.96l-1.37-1.37c-.4-.4-.92-.59-1.43-.59-.52 0-1.04.2-1.43.59L10.3 9.45l-7.72 7.72c-.78.78-.78 2.05 0 2.83L4 21.41c.39.39.9.59 1.41.59.51 0 1.02-.2 1.41-.59l7.78-7.78 2.81-2.81c.8-.78.8-2.07 0-2.86zM5.41 20L4 18.59l7.72-7.72 1.47 1.35L5.41 20z\"/>\n",
              "  </svg>\n",
              "      </button>\n",
              "\n",
              "\n",
              "\n",
              "    <div id=\"df-39336840-077b-47b9-a8d8-98961d85bb81\">\n",
              "      <button class=\"colab-df-quickchart\" onclick=\"quickchart('df-39336840-077b-47b9-a8d8-98961d85bb81')\"\n",
              "              title=\"Suggest charts.\"\n",
              "              style=\"display:none;\">\n",
              "\n",
              "<svg xmlns=\"http://www.w3.org/2000/svg\" height=\"24px\"viewBox=\"0 0 24 24\"\n",
              "     width=\"24px\">\n",
              "    <g>\n",
              "        <path d=\"M19 3H5c-1.1 0-2 .9-2 2v14c0 1.1.9 2 2 2h14c1.1 0 2-.9 2-2V5c0-1.1-.9-2-2-2zM9 17H7v-7h2v7zm4 0h-2V7h2v10zm4 0h-2v-4h2v4z\"/>\n",
              "    </g>\n",
              "</svg>\n",
              "      </button>\n",
              "    </div>\n",
              "\n",
              "<style>\n",
              "  .colab-df-quickchart {\n",
              "    background-color: #E8F0FE;\n",
              "    border: none;\n",
              "    border-radius: 50%;\n",
              "    cursor: pointer;\n",
              "    display: none;\n",
              "    fill: #1967D2;\n",
              "    height: 32px;\n",
              "    padding: 0 0 0 0;\n",
              "    width: 32px;\n",
              "  }\n",
              "\n",
              "  .colab-df-quickchart:hover {\n",
              "    background-color: #E2EBFA;\n",
              "    box-shadow: 0px 1px 2px rgba(60, 64, 67, 0.3), 0px 1px 3px 1px rgba(60, 64, 67, 0.15);\n",
              "    fill: #174EA6;\n",
              "  }\n",
              "\n",
              "  [theme=dark] .colab-df-quickchart {\n",
              "    background-color: #3B4455;\n",
              "    fill: #D2E3FC;\n",
              "  }\n",
              "\n",
              "  [theme=dark] .colab-df-quickchart:hover {\n",
              "    background-color: #434B5C;\n",
              "    box-shadow: 0px 1px 3px 1px rgba(0, 0, 0, 0.15);\n",
              "    filter: drop-shadow(0px 1px 2px rgba(0, 0, 0, 0.3));\n",
              "    fill: #FFFFFF;\n",
              "  }\n",
              "</style>\n",
              "\n",
              "    <script>\n",
              "      async function quickchart(key) {\n",
              "        const containerElement = document.querySelector('#' + key);\n",
              "        const charts = await google.colab.kernel.invokeFunction(\n",
              "            'suggestCharts', [key], {});\n",
              "      }\n",
              "    </script>\n",
              "\n",
              "      <script>\n",
              "\n",
              "function displayQuickchartButton(domScope) {\n",
              "  let quickchartButtonEl =\n",
              "    domScope.querySelector('#df-39336840-077b-47b9-a8d8-98961d85bb81 button.colab-df-quickchart');\n",
              "  quickchartButtonEl.style.display =\n",
              "    google.colab.kernel.accessAllowed ? 'block' : 'none';\n",
              "}\n",
              "\n",
              "        displayQuickchartButton(document);\n",
              "      </script>\n",
              "      <style>\n",
              "    .colab-df-container {\n",
              "      display:flex;\n",
              "      flex-wrap:wrap;\n",
              "      gap: 12px;\n",
              "    }\n",
              "\n",
              "    .colab-df-convert {\n",
              "      background-color: #E8F0FE;\n",
              "      border: none;\n",
              "      border-radius: 50%;\n",
              "      cursor: pointer;\n",
              "      display: none;\n",
              "      fill: #1967D2;\n",
              "      height: 32px;\n",
              "      padding: 0 0 0 0;\n",
              "      width: 32px;\n",
              "    }\n",
              "\n",
              "    .colab-df-convert:hover {\n",
              "      background-color: #E2EBFA;\n",
              "      box-shadow: 0px 1px 2px rgba(60, 64, 67, 0.3), 0px 1px 3px 1px rgba(60, 64, 67, 0.15);\n",
              "      fill: #174EA6;\n",
              "    }\n",
              "\n",
              "    [theme=dark] .colab-df-convert {\n",
              "      background-color: #3B4455;\n",
              "      fill: #D2E3FC;\n",
              "    }\n",
              "\n",
              "    [theme=dark] .colab-df-convert:hover {\n",
              "      background-color: #434B5C;\n",
              "      box-shadow: 0px 1px 3px 1px rgba(0, 0, 0, 0.15);\n",
              "      filter: drop-shadow(0px 1px 2px rgba(0, 0, 0, 0.3));\n",
              "      fill: #FFFFFF;\n",
              "    }\n",
              "  </style>\n",
              "\n",
              "      <script>\n",
              "        const buttonEl =\n",
              "          document.querySelector('#df-c1665fda-0f8c-491c-b4fb-b1072f22d1c0 button.colab-df-convert');\n",
              "        buttonEl.style.display =\n",
              "          google.colab.kernel.accessAllowed ? 'block' : 'none';\n",
              "\n",
              "        async function convertToInteractive(key) {\n",
              "          const element = document.querySelector('#df-c1665fda-0f8c-491c-b4fb-b1072f22d1c0');\n",
              "          const dataTable =\n",
              "            await google.colab.kernel.invokeFunction('convertToInteractive',\n",
              "                                                     [key], {});\n",
              "          if (!dataTable) return;\n",
              "\n",
              "          const docLinkHtml = 'Like what you see? Visit the ' +\n",
              "            '<a target=\"_blank\" href=https://colab.research.google.com/notebooks/data_table.ipynb>data table notebook</a>'\n",
              "            + ' to learn more about interactive tables.';\n",
              "          element.innerHTML = '';\n",
              "          dataTable['output_type'] = 'display_data';\n",
              "          await google.colab.output.renderOutput(dataTable, element);\n",
              "          const docLink = document.createElement('div');\n",
              "          docLink.innerHTML = docLinkHtml;\n",
              "          element.appendChild(docLink);\n",
              "        }\n",
              "      </script>\n",
              "    </div>\n",
              "  </div>\n"
            ]
          },
          "metadata": {},
          "execution_count": 45
        }
      ]
    },
    {
      "cell_type": "code",
      "source": [
        "final_results_ran.to_csv('Randomised_searchCV.csv')  # Get results"
      ],
      "metadata": {
        "id": "SOz6ALR08JJq"
      },
      "execution_count": 46,
      "outputs": []
    }
  ]
}